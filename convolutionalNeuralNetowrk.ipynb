{
 "cells": [
  {
   "cell_type": "markdown",
   "metadata": {},
   "source": [
    "# Convolutional Neural Networks\n",
    "\n",
    "### Lesson 1: CNN\n",
    "Very effective in recognizing patterns within images by understanding that spatial structure is important and can use that data for their benefit. Require fewer parameters compared to ANNs. Comparing CNN and NN is the input layer and the fully connected layer (multilayer perceptron parameter that uses weights and biase values and use the softmax activation funciton in the output layer). Highest probability that the image belongs in a class is the output. \n",
    "\n",
    "CNN stems from the convolution part. Process data that has a known grid-like topology, so cnn used to solve image dirven pattern recognition tasks. DNN will often struggle with the complexity, previously we did it with MNIST, because the 28x28 dimensions were manageable by the feed forward. But overall not scalable for larger or colored images. \n",
    "\n",
    "If we're using colored RBG with 72x72 pixels. That means we have 15552 pixel intensities...and so this would be that many weights parameterizing for each node. Way too complex for a DNN! But with CNN, this is computationally manageable. \n",
    "\n",
    "Drawback with NN: Overfitting. Cannot generalize. But with CNN, pooling layers will act to continuously reduce the number of parameters in computations in the network. "
   ]
  },
  {
   "cell_type": "markdown",
   "metadata": {},
   "source": [
    "### Lesson 2: Convolutional Layer\n",
    "\n",
    "CNN's are a specialized form of ANN. Based on the number of hidden layers, this determines the depth and complexity of the neural network. With learning rates, we can adjust the weights and connections to the neurons and come up with a model. \n",
    "\n",
    "CNN has three types of layers: convolutional, pooling, and fully connected layers. Input layer is where we pass the pixel values of the images (784 nodes) and also have 10 output nodes (class). Still going to make use of softmax function to make the final prdiction. \n",
    "\n",
    "In between are the series of convolutional, pooling and then fully connected layers. Main building block is the convolutional layer: primary goal is to extract and learn specific image features that can help classify the image. Each input will correspond to an input node and all the pixels will be processed bye a convolution or a filter (also known as a kernel or a kernel matrix). Kernels are usually small in spatial dimensionality. The convlution opperation is done by sliding the kernel at every location of the image by a certain stride. \n",
    "\n",
    "Receptive field - image is corresponding to the size of the kernel. Multiply the receptive field by the corres. cell in the kernel. The summ of the numbers and divide by the number of pixels in the field and then goes to a feature map. \n",
    "\n",
    "When we've convolved the kernel over the entire image we result in a feature map. We get an edge between large and small pixel intensities. This is called a feature map because it contains a specific feature of interest that was extracted from the original image. Kernel is therefore the feature detector. Every kernel is designed to have a specific set of weights (distinguishes each kernel from each other). \n",
    "\n",
    "The values of weights in kernel learned by CNN during training process. With gradient descent, to minimize error, the weights of the kernels will be changed best to detect features. \n",
    "\n",
    "Translational in a variance. Sharing weights...your network can learn a single filter for a feature. More filter...more features we can extract and ultimately improve the nn ability. When we combine all the feature maps we get a final output of the convolution of a layer. Deeper resulting feature map, more features we've extracted. \n",
    "\n",
    "This is 2D convolution. Which is what will be used for MNIST. If use a 3D image, then we need to have a 3D kernel. \n",
    "\n",
    "Relu activation function - used to introduce non-linearity to the feature map. It converts negative feature map to zeros. Could also use sigmoid and tanh but relu will perform better in most situations. Relu is biologically insprired - neural activity doesn't follow sigmoid function (positive and negative). But rather the lowest activvity is zero and action potential is ramped up from there. \n",
    "\n",
    "Sigmoid and Tanh prediscposed to vanishing gradient issue. If gradient and network gets too small...then can't use gradient descent and learning slows a lot. "
   ]
  },
  {
   "cell_type": "markdown",
   "metadata": {},
   "source": [
    "### Lesson 3: Convolutions II\n",
    "\n",
    "The goal is to pass a digit into the CNN and the network will determine the best class to which the image belongs to. CNN will analyze image feature by feature and break down the images into parts to find similarities between theimage and the class it should be classified. \n",
    "\n",
    "Example is an 'X' image. Has a filter of 'x' '\\' and '/' \n",
    "\n",
    "#### Apply kernel to the image to get feature map \n",
    "Different filters and kerenls used. Each kernel will correspond to a feature in the image...then we convulse each filter over the entire image. Multiply each pixel in the image by the corresponding kernel value and add up then divide the total number of pixels. That resulting value is placed into a feature map. By convolving the filter over the entire image, you get a feature map. We are checking out well the feature matches a specific piece in the image. Higher the number the more similar the feature in the feature map shows us that it's most similar to the feature of interest. \n",
    "\n",
    "Stack the feature maps along the depth dimenion to form the full ouput volume from the convolutional layer. By passing original input image through the convoutional layer, the three filters (three different features), producing a filtered image consistent with the feature of interest. More filters = more filtered images, so we can improve the accuracy to pinpoint specific features in the image. \n",
    "\n",
    "After processing, we use an activation funciton. Apply relu function to the filtered images to account for non-linearity; by changing negative values to zero. After applying relu, then the filtered images can be processed in the pooling layer. \n",
    "\n",
    "Helps us filter out specific features from the images - resulting in a stack of filtered images. \n",
    "\n",
    "### Lesson 4: Pooling\n",
    "\n",
    "When we get filtered images these images are consistent with specific features of the image itself. This then goes through pooling layer which acts to shrink the image stack by reducing the dimensionality of the representation of each feature map (reduce the computational complexity of the model but retains the most important information of features). Pooling helps avoid overfitting. \n",
    "\n",
    "Different types of pooling operation: sum, average, max. Going to focus on max pooling, which reports max output within a rectangular neighborhood. 2D kernel convolve throughout the feature map, going to shift through, and take only the max value of the feature maps. It scales the feature map size to only account for the max values but still retains the feature of interest. \n",
    "\n",
    "Need to scale down because it reduces the computational cost by reducing the number of parameters in the image. Helps Reduce overfitting by abstracting the original feature map but preserces the general patterns (even though it's half the size of the original filtered image). Max value will pick up the max value in respective neighborhood, and provides a scale invariant representation of the image. Allows to detect features in an image no matter where it is located. = can generalize features to more than one image!\n",
    "\n",
    "A stack of smaller filtered images in the pooling layer results. Pooling is destructive so kernel is small. More convolutions and pooling layers added to furuther filter the image. More feature maps extract more useful features. Then apply relu for nonlinearity. Then apply max pooling to scale down the feature map. \n",
    "\n",
    "Deeper the network, more filters build onto each other and more complex patterns can be encoded. Lower level images correspond to simple aspects of the image while higher level images correspond to more sophisticated features (shapes and patterns that will help the network classify). Going deeper in the NN, the more unrecognizable the feature maps become. Kernels also get more complex as go deeper, building off each other. Filters encode for distinct high level shapes and have more information for a feature that's distinct to the kernel involved on the image. \n",
    "\n",
    "https://www.cs.ryerson.ca/~aharley/vis/conv/flat.html is a cool website that you can see CNN in action. \n",
    "\n",
    "Once the convolutional and pooling layers get the feature extraction and data representation. The necessary features then go to the fully connected layers to classify the data. \n",
    "\n",
    "### Lesson 5: Fully Connected Layers\n",
    "CNN don't actually know what the image is...but after encountering many training images, it learns to detect image as meaningful feature. ONce get the required features, we then need a classifer to assign probability for the input image belonging to some class. \n",
    "\n"
   ]
  },
  {
   "cell_type": "markdown",
   "metadata": {},
   "source": [
    "### Lesson 6: Coding CNN\n",
    "\n",
    "Implementing CNN with the MNIST dataset many models done. Model we focus on is the LeNet model which is similier than the other ones. \n",
    "\n",
    "2 convolutional layers each followed by a pooling layer. Then followed by 2 fully connected layers that actually classifies the input data."
   ]
  },
  {
   "cell_type": "code",
   "execution_count": 1,
   "metadata": {},
   "outputs": [],
   "source": [
    "import torch\n",
    "import matplotlib.pyplot as plt\n",
    "import numpy as np\n",
    "import torch.nn.functional as F\n",
    "from torch import nn\n",
    "from torchvision import datasets, transforms"
   ]
  },
  {
   "cell_type": "code",
   "execution_count": 8,
   "metadata": {},
   "outputs": [],
   "source": [
    "device = torch.device('cuda:0' if torch.cuda.is_available() else 'cpu')"
   ]
  },
  {
   "cell_type": "code",
   "execution_count": 2,
   "metadata": {},
   "outputs": [],
   "source": [
    "transform = transforms.Compose([transforms.Resize((28, 28)),\n",
    "                                transforms.ToTensor(),\n",
    "                                transforms.Normalize((0.5), (0.5))\n",
    "                                ])\n",
    "training_dataset = datasets.MNIST(root='./data', train=True, download=True, transform=transform)\n",
    "#training_dataset\n",
    "validation_dataset = datasets.MNIST(root='./data', train=True, download=True, transform=transform)\n",
    "##validation_dataset. Needs to be 20% of the training data\n",
    "\n",
    "#need to divide images into batches\n",
    "training_loader = torch.utils.data.DataLoader(dataset=training_dataset, batch_size=100, shuffle=True)\n",
    "#with shuffle, to ensure reach a global minimum rather than local min with gradient descent\n",
    "\n",
    "##validation loader\n",
    "validation_loader =  torch.utils.data.DataLoader(dataset=validation_dataset, batch_size=100, shuffle=False)\n",
    "##not going to be training the model based on the validation data, so we don't need to shuffle"
   ]
  },
  {
   "cell_type": "code",
   "execution_count": 3,
   "metadata": {},
   "outputs": [],
   "source": [
    "def im_convert(tensor):\n",
    "    #cannot convert cuda tensor to numpy. need cpa\n",
    "    #so if use cuda use:\n",
    "    # image = tensor.cpu().clone().detach().numpy()\n",
    "    image = tensor.clone().detach().numpy() #before making a numpy array\n",
    "    image = image.transpose(1, 2, 0) #to get a 28, 28, 1 shape\n",
    "    #denormalize image\n",
    "    image = image * np.array((0.5, 0.5, 0.5)) + np.array((0.5, 0.5, 0.5))\n",
    "    image = image.clip(0, 1)\n",
    "    return image"
   ]
  },
  {
   "cell_type": "code",
   "execution_count": 4,
   "metadata": {},
   "outputs": [
    {
     "data": {
      "image/png": "[encoded data removed]",
      "text/plain": [
       "<Figure size 1800x288 with 20 Axes>"
      ]
     },
     "metadata": {},
     "output_type": "display_data"
    }
   ],
   "source": [
    "dataiter = iter(training_loader)\n",
    "images, labels = dataiter.next() #grab first batch of training data and split by images and labels\n",
    "fig = plt.figure(figsize=(25, 4))\n",
    "\n",
    "\n",
    "for idx in np.arange(20):\n",
    "    #2 rows and 10 columns, idx starts at 0 so need to add 1\n",
    "    ax = fig.add_subplot(2, 10, idx+1, xticks=[], yticks=[])\n",
    "    #image[idx] is a tensor. so we use im_convert to get numpy\n",
    "    #get rid of tick marks by setting them to empty list\n",
    "    plt.imshow(im_convert(images[idx]))\n",
    "    ax.set_title([labels[idx].item()])"
   ]
  },
  {
   "cell_type": "code",
   "execution_count": 6,
   "metadata": {},
   "outputs": [],
   "source": [
    "class LeNet(nn.Module):\n",
    "    \n",
    "    #redo for CNN instead! \n",
    "    def __init__(self):\n",
    "        super().__init__()\n",
    "        #define a convolutional layer\n",
    "        self.conv1 = nn.Conv2d(1, 20, 5, 1) \n",
    "        #input layer of conv1 only has 1 layer\n",
    "        #next is the numbe rof output channels\n",
    "        #kernel size is 5, stride is 1 (input images are small so we don't need a larger stride)\n",
    "        #bigger stride could result in less effective feature estraction\n",
    "        self.conv2 = nn.Conv2d(20, 50, 5, 1)\n",
    "        #define the fully connected layers\n",
    "        self.fc1 = nn.Linear(4*4*50, 500) #50 channels with 4x4 iamge\n",
    "        self.fc2 = nn.Linear(500, 10) #output because 10 classes\n",
    "    \n",
    "    #define the pooling and activation functions\n",
    "    def forward(self, x):\n",
    "        x = F.relu(self.conv1(x))\n",
    "        #pooling layer\n",
    "        x = F.max_pool2d(x, 2, 2)\n",
    "        #second conv layer\n",
    "        x = F.relu(self.conv2(x))\n",
    "        #pooling layer\n",
    "        x = F.max_pool2d(x, 2, 2)\n",
    "        #reshape x, need to flatten so it can go into FC layer\n",
    "        x = x.view(-1, 4*4*50) #columns (decided automatically), rows\n",
    "        #attach relu to first FC layer\n",
    "        x = F.relu(self.fc1(x))\n",
    "        x = self.fc2(x) #no activation funciton here because going to use nn Cross entropy loss\n",
    "        return x "
   ]
  },
  {
   "cell_type": "code",
   "execution_count": 7,
   "metadata": {},
   "outputs": [
    {
     "data": {
      "text/plain": [
       "LeNet(\n",
       "  (conv1): Conv2d(1, 20, kernel_size=(5, 5), stride=(1, 1))\n",
       "  (conv2): Conv2d(20, 50, kernel_size=(5, 5), stride=(1, 1))\n",
       "  (fc1): Linear(in_features=800, out_features=500, bias=True)\n",
       "  (fc2): Linear(in_features=500, out_features=10, bias=True)\n",
       ")"
      ]
     },
     "execution_count": 7,
     "metadata": {},
     "output_type": "execute_result"
    }
   ],
   "source": [
    "model = LeNet().to(device)\n",
    "model"
   ]
  },
  {
   "cell_type": "markdown",
   "metadata": {},
   "source": [
    "Using google collab gpu? "
   ]
  },
  {
   "cell_type": "code",
   "execution_count": 10,
   "metadata": {},
   "outputs": [],
   "source": [
    "criterion = nn.CrossEntropyLoss()\n",
    "optimizer = torch.optim.Adam(model.parameters(), lr = 0.0001) "
   ]
  },
  {
   "cell_type": "code",
   "execution_count": 12,
   "metadata": {},
   "outputs": [
    {
     "name": "stdout",
     "output_type": "stream",
     "text": [
      "epoch : 1\n",
      "training loss: 0.2671, acc 92.4083\n",
      "validation loss: 0.1542, validation acc 95.4617\n",
      "epoch : 2\n",
      "training loss: 0.1201, acc 96.4917\n",
      "validation loss: 0.0970, validation acc 97.1167\n",
      "epoch : 3\n",
      "training loss: 0.0818, acc 97.5833\n",
      "validation loss: 0.0704, validation acc 97.9183\n",
      "epoch : 4\n",
      "training loss: 0.0634, acc 98.1250\n",
      "validation loss: 0.0562, validation acc 98.3700\n",
      "epoch : 5\n",
      "training loss: 0.0533, acc 98.3900\n",
      "validation loss: 0.0474, validation acc 98.5983\n",
      "epoch : 6\n",
      "training loss: 0.0457, acc 98.6383\n",
      "validation loss: 0.0410, validation acc 98.7883\n",
      "epoch : 7\n",
      "training loss: 0.0410, acc 98.7550\n",
      "validation loss: 0.0352, validation acc 98.9317\n",
      "epoch : 8\n",
      "training loss: 0.0351, acc 98.9150\n",
      "validation loss: 0.0322, validation acc 99.0167\n",
      "epoch : 9\n",
      "training loss: 0.0317, acc 99.0133\n",
      "validation loss: 0.0260, validation acc 99.2267\n",
      "epoch : 10\n",
      "training loss: 0.0287, acc 99.1183\n",
      "validation loss: 0.0242, validation acc 99.2850\n",
      "epoch : 11\n",
      "training loss: 0.0256, acc 99.2200\n",
      "validation loss: 0.0236, validation acc 99.2617\n",
      "epoch : 12\n",
      "training loss: 0.0232, acc 99.3000\n",
      "validation loss: 0.0196, validation acc 99.3867\n",
      "epoch : 13\n",
      "training loss: 0.0205, acc 99.3733\n",
      "validation loss: 0.0176, validation acc 99.4600\n",
      "epoch : 14\n",
      "training loss: 0.0189, acc 99.4117\n",
      "validation loss: 0.0175, validation acc 99.4883\n",
      "epoch : 15\n",
      "training loss: 0.0173, acc 99.4917\n",
      "validation loss: 0.0145, validation acc 99.6083\n"
     ]
    }
   ],
   "source": [
    "#specifiy number of epochs\n",
    "epochs = 15\n",
    "#want to analyze loss after each epoch so need to graph\n",
    "running_loss_history = []\n",
    "running_corrects_history = [] #store accruacy at each epoch\n",
    "\n",
    "##validation part\n",
    "val_running_loss_history = []\n",
    "val_running_corrects_history = []\n",
    "\n",
    "#iterate through each epoch\n",
    "for e in range(epochs):\n",
    "    #need to go through each training batch provided by training loader\n",
    "    running_loss = 0.0\n",
    "    running_corrects = 0.0\n",
    "    \n",
    "    ##after training, we iterate through validation set to test our data\n",
    "    #measure performance to check for overfitting \n",
    "    ##validation\n",
    "    val_running_loss = 0.0\n",
    "    val_running_corrects = 0.0\n",
    "    \n",
    "    for inputs, labels in training_loader:\n",
    "        inputs = inputs.to(device)\n",
    "        labels = labels.to(device)\n",
    "        outputs = model(inputs) #call the forward function to get raw final score\n",
    "        #output is compared to actual labels\n",
    "        loss = criterion(outputs, labels) #compare and determine error based on cross entropy criterion\n",
    "        \n",
    "        optimizer.zero_grad()\n",
    "        loss.backward()\n",
    "        optimizer.step()\n",
    "        \n",
    "        _, preds = torch.max(outputs, 1) #first value is max score that was made by the model\n",
    "        running_loss += loss.item() #append the current loss at the batch iteration to the loss list\n",
    "        #want to compare the prediction to the actual label to see how many got correct\n",
    "        #second value will be top predictions\n",
    "        running_corrects += torch.sum(preds == labels.data) #every element of both tensors, compare the prediction to the actual class label\n",
    "        #if comparision matches, then will place a value of one\n",
    "    \n",
    "    \n",
    "    else:\n",
    "        with torch.no_grad(): #set all requires grad flags to be false\n",
    "        ##validation\n",
    "            for val_inputs, val_labels in validation_loader: \n",
    "                val_inputs = val_inputs.to(device)\n",
    "                val_labels = val_labels.to(device)\n",
    "                #make predictions and calculate loss for validation\n",
    "                val_outputs = model(val_inputs)\n",
    "                \n",
    "                val_loss = criterion(val_outputs, val_labels)\n",
    "                \n",
    "                _, val_preds = torch.max(val_outputs, 1)\n",
    "                val_running_loss += val_loss.item()\n",
    "                val_running_corrects += torch.sum(val_preds == val_labels.data)\n",
    "                \n",
    "        epoch_loss = running_loss/len(training_loader) #get the average loss at the epoch\n",
    "        epoch_acc = running_corrects.float()/ len(training_loader) #average accuracy at that epoch\n",
    "        #now append\n",
    "        running_loss_history.append(epoch_loss) #observe decrease in loss at every epoch\n",
    "        running_corrects_history.append(epoch_acc)\n",
    "        \n",
    "        ##same for validation\n",
    "        val_epoch_loss = val_running_loss/len(validation_loader)\n",
    "        val_epoch_acc = val_running_corrects.float()/ len(validation_loader) \n",
    "        val_running_loss_history.append(val_epoch_loss)\n",
    "        val_running_corrects_history.append(val_epoch_acc)\n",
    "        \n",
    "        print('epoch :', (e+1)) #because epoch starts at 0\n",
    "        print('training loss: {:.4f}, acc {:.4f}'.format(epoch_loss, epoch_acc.item()))\n",
    "        print('validation loss: {:.4f}, validation acc {:.4f}'.format(val_epoch_loss, val_epoch_acc.item()))"
   ]
  },
  {
   "cell_type": "markdown",
   "metadata": {},
   "source": [
    "Looking at the training process, the network is starting better than the DNN (which was around 70% before). The loss is also much lower. Accuracy seems to be converging to higher values and the loss goes down. Shows the effectiveness of CNN. Training and validation approaches 99%\n",
    "\n",
    "If the training accuracy increases higher than the validation then we will know that there's overfitting."
   ]
  },
  {
   "cell_type": "code",
   "execution_count": 13,
   "metadata": {},
   "outputs": [
    {
     "data": {
      "text/plain": [
       "<matplotlib.legend.Legend at 0x7fb248c4e4d0>"
      ]
     },
     "execution_count": 13,
     "metadata": {},
     "output_type": "execute_result"
    },
    {
     "data": {
      "image/png": "[encoded data removed]",
      "text/plain": [
       "<Figure size 432x288 with 1 Axes>"
      ]
     },
     "metadata": {
      "needs_background": "light"
     },
     "output_type": "display_data"
    }
   ],
   "source": [
    "plt.plot(running_loss_history, label='training loss')\n",
    "plt.plot(val_running_loss_history, label='validation loss')\n",
    "plt.legend()"
   ]
  },
  {
   "cell_type": "code",
   "execution_count": 14,
   "metadata": {},
   "outputs": [
    {
     "data": {
      "text/plain": [
       "<matplotlib.legend.Legend at 0x7fb252b08150>"
      ]
     },
     "execution_count": 14,
     "metadata": {},
     "output_type": "execute_result"
    },
    {
     "data": {
      "image/png": "[encoded data removed]",
      "text/plain": [
       "<Figure size 432x288 with 1 Axes>"
      ]
     },
     "metadata": {
      "needs_background": "light"
     },
     "output_type": "display_data"
    }
   ],
   "source": [
    "plt.plot(running_corrects_history, label='training accuracy')\n",
    "plt.plot(val_running_corrects_history, label='validation accuracy')\n",
    "plt.legend()"
   ]
  },
  {
   "cell_type": "markdown",
   "metadata": {},
   "source": [
    "If overfitting does occur, one way to avoid this is to use a drop out layer within the neural network. Going back to the LeNet class, we can add the layer type called a Dropout layer. Randomly sets a fraction of the input units to zero (turn off), which prevents overfitting. Some nodes are turned off and will not communicate along the network. Everytime the network updates, it seelectes random nodes to turn off and then each update a different set of nodes are turned off/on. Forces the nn to use various combinations to classify the same data and so each node is forced to learn the data in a more independent way (unique arrangement each time).\n",
    "\n",
    "The nn becomes more versaitle and weights become more uniform along the network. "
   ]
  },
  {
   "cell_type": "code",
   "execution_count": 15,
   "metadata": {},
   "outputs": [],
   "source": [
    "class LeNet(nn.Module):\n",
    "    \n",
    "    #redo for CNN instead! \n",
    "    def __init__(self):\n",
    "        super().__init__()\n",
    "        #define a convolutional layer\n",
    "        self.conv1 = nn.Conv2d(1, 20, 5, 1) \n",
    "        self.conv2 = nn.Conv2d(20, 50, 5, 1)\n",
    "        #define the fully connected layers\n",
    "        self.fc1 = nn.Linear(4*4*50, 500) \n",
    "        #dropout layer can be between convolutional layers or b/w fc layer\n",
    "        #usually put between high number of parameters \n",
    "        self.dropout1 = nn.Dropout(0.5) #recommended rate by researchers\n",
    "        self.fc2 = nn.Linear(500, 10)\n",
    "        \n",
    "        \n",
    "    #define the pooling and activation functions\n",
    "    def forward(self, x):\n",
    "        x = F.relu(self.conv1(x))\n",
    "        #pooling layer\n",
    "        x = F.max_pool2d(x, 2, 2)\n",
    "        #second conv layer\n",
    "        x = F.relu(self.conv2(x))\n",
    "        #pooling layer\n",
    "        x = F.max_pool2d(x, 2, 2)\n",
    "        #reshape x, need to flatten so it can go into FC layer\n",
    "        x = x.view(-1, 4*4*50)\n",
    "        x = F.relu(self.fc1(x))\n",
    "        #include dropout layer\n",
    "        x = self.dropout1(x)\n",
    "        x = self.fc2(x)\n",
    "        return x "
   ]
  },
  {
   "cell_type": "code",
   "execution_count": 16,
   "metadata": {},
   "outputs": [
    {
     "data": {
      "text/plain": [
       "LeNet(\n",
       "  (conv1): Conv2d(1, 20, kernel_size=(5, 5), stride=(1, 1))\n",
       "  (conv2): Conv2d(20, 50, kernel_size=(5, 5), stride=(1, 1))\n",
       "  (fc1): Linear(in_features=800, out_features=500, bias=True)\n",
       "  (dropout1): Dropout(p=0.5, inplace=False)\n",
       "  (fc2): Linear(in_features=500, out_features=10, bias=True)\n",
       ")"
      ]
     },
     "execution_count": 16,
     "metadata": {},
     "output_type": "execute_result"
    }
   ],
   "source": [
    "model = LeNet().to(device)\n",
    "model"
   ]
  },
  {
   "cell_type": "code",
   "execution_count": 17,
   "metadata": {},
   "outputs": [],
   "source": [
    "criterion = nn.CrossEntropyLoss()\n",
    "optimizer = torch.optim.Adam(model.parameters(), lr = 0.0001) "
   ]
  },
  {
   "cell_type": "code",
   "execution_count": 18,
   "metadata": {},
   "outputs": [
    {
     "name": "stdout",
     "output_type": "stream",
     "text": [
      "epoch : 1\n",
      "training loss: 0.5708, acc 84.5600\n",
      "validation loss: 0.1970, validation acc 94.2033\n",
      "epoch : 2\n",
      "training loss: 0.1490, acc 95.5433\n",
      "validation loss: 0.1139, validation acc 96.7833\n",
      "epoch : 3\n",
      "training loss: 0.1005, acc 96.9583\n",
      "validation loss: 0.0888, validation acc 97.3217\n",
      "epoch : 4\n",
      "training loss: 0.0795, acc 97.5533\n",
      "validation loss: 0.0676, validation acc 97.9483\n",
      "epoch : 5\n",
      "training loss: 0.0653, acc 98.0167\n",
      "validation loss: 0.0602, validation acc 98.2383\n",
      "epoch : 6\n",
      "training loss: 0.0568, acc 98.2800\n",
      "validation loss: 0.0500, validation acc 98.4667\n",
      "epoch : 7\n",
      "training loss: 0.0497, acc 98.4883\n",
      "validation loss: 0.0443, validation acc 98.6817\n",
      "epoch : 8\n",
      "training loss: 0.0457, acc 98.5883\n",
      "validation loss: 0.0404, validation acc 98.7683\n",
      "epoch : 9\n",
      "training loss: 0.0402, acc 98.7550\n",
      "validation loss: 0.0388, validation acc 98.7917\n",
      "epoch : 10\n",
      "training loss: 0.0369, acc 98.8667\n",
      "validation loss: 0.0326, validation acc 99.0133\n",
      "epoch : 11\n",
      "training loss: 0.0341, acc 98.9700\n",
      "validation loss: 0.0316, validation acc 99.0350\n",
      "epoch : 12\n",
      "training loss: 0.0310, acc 99.0583\n",
      "validation loss: 0.0281, validation acc 99.1617\n",
      "epoch : 13\n",
      "training loss: 0.0284, acc 99.0967\n",
      "validation loss: 0.0274, validation acc 99.1200\n",
      "epoch : 14\n",
      "training loss: 0.0269, acc 99.1533\n",
      "validation loss: 0.0237, validation acc 99.2983\n",
      "epoch : 15\n",
      "training loss: 0.0246, acc 99.2383\n",
      "validation loss: 0.0227, validation acc 99.3000\n"
     ]
    }
   ],
   "source": [
    "#specifiy number of epochs\n",
    "epochs = 15\n",
    "#want to analyze loss after each epoch so need to graph\n",
    "running_loss_history = []\n",
    "running_corrects_history = [] #store accruacy at each epoch\n",
    "\n",
    "##validation part\n",
    "val_running_loss_history = []\n",
    "val_running_corrects_history = []\n",
    "\n",
    "#iterate through each epoch\n",
    "for e in range(epochs):\n",
    "    #need to go through each training batch provided by training loader\n",
    "    running_loss = 0.0\n",
    "    running_corrects = 0.0\n",
    "    \n",
    "    ##after training, we iterate through validation set to test our data\n",
    "    #measure performance to check for overfitting \n",
    "    ##validation\n",
    "    val_running_loss = 0.0\n",
    "    val_running_corrects = 0.0\n",
    "    \n",
    "    for inputs, labels in training_loader:\n",
    "        inputs = inputs.to(device)\n",
    "        labels = labels.to(device)\n",
    "        outputs = model(inputs) #call the forward function to get raw final score\n",
    "        #output is compared to actual labels\n",
    "        loss = criterion(outputs, labels) #compare and determine error based on cross entropy criterion\n",
    "        \n",
    "        optimizer.zero_grad()\n",
    "        loss.backward()\n",
    "        optimizer.step()\n",
    "        \n",
    "        _, preds = torch.max(outputs, 1) #first value is max score that was made by the model\n",
    "        running_loss += loss.item() #append the current loss at the batch iteration to the loss list\n",
    "        #want to compare the prediction to the actual label to see how many got correct\n",
    "        #second value will be top predictions\n",
    "        running_corrects += torch.sum(preds == labels.data) #every element of both tensors, compare the prediction to the actual class label\n",
    "        #if comparision matches, then will place a value of one\n",
    "    \n",
    "    \n",
    "    else:\n",
    "        with torch.no_grad(): #set all requires grad flags to be false\n",
    "        ##validation\n",
    "            for val_inputs, val_labels in validation_loader: \n",
    "                val_inputs = val_inputs.to(device)\n",
    "                val_labels = val_labels.to(device)\n",
    "                #make predictions and calculate loss for validation\n",
    "                val_outputs = model(val_inputs)\n",
    "                \n",
    "                val_loss = criterion(val_outputs, val_labels)\n",
    "                \n",
    "                _, val_preds = torch.max(val_outputs, 1)\n",
    "                val_running_loss += val_loss.item()\n",
    "                val_running_corrects += torch.sum(val_preds == val_labels.data)\n",
    "                \n",
    "        epoch_loss = running_loss/len(training_loader) #get the average loss at the epoch\n",
    "        epoch_acc = running_corrects.float()/ len(training_loader) #average accuracy at that epoch\n",
    "        #now append\n",
    "        running_loss_history.append(epoch_loss) #observe decrease in loss at every epoch\n",
    "        running_corrects_history.append(epoch_acc)\n",
    "        \n",
    "        ##same for validation\n",
    "        val_epoch_loss = val_running_loss/len(validation_loader)\n",
    "        val_epoch_acc = val_running_corrects.float()/ len(validation_loader) \n",
    "        val_running_loss_history.append(val_epoch_loss)\n",
    "        val_running_corrects_history.append(val_epoch_acc)\n",
    "        \n",
    "        print('epoch :', (e+1)) #because epoch starts at 0\n",
    "        print('training loss: {:.4f}, acc {:.4f}'.format(epoch_loss, epoch_acc.item()))\n",
    "        print('validation loss: {:.4f}, validation acc {:.4f}'.format(val_epoch_loss, val_epoch_acc.item()))"
   ]
  },
  {
   "cell_type": "markdown",
   "metadata": {},
   "source": [
    "We can see no overfitting really. The loss and accuracy are even closer to each other!"
   ]
  },
  {
   "cell_type": "code",
   "execution_count": 19,
   "metadata": {},
   "outputs": [
    {
     "data": {
      "text/plain": [
       "<matplotlib.legend.Legend at 0x7fb252b96c50>"
      ]
     },
     "execution_count": 19,
     "metadata": {},
     "output_type": "execute_result"
    },
    {
     "data": {
      "image/png": "[encoded data removed]",
      "text/plain": [
       "<Figure size 432x288 with 1 Axes>"
      ]
     },
     "metadata": {
      "needs_background": "light"
     },
     "output_type": "display_data"
    }
   ],
   "source": [
    "plt.plot(running_loss_history, label='training loss')\n",
    "plt.plot(val_running_loss_history, label='validation loss')\n",
    "plt.legend()"
   ]
  },
  {
   "cell_type": "code",
   "execution_count": 20,
   "metadata": {},
   "outputs": [
    {
     "data": {
      "text/plain": [
       "<matplotlib.legend.Legend at 0x7fb252c09410>"
      ]
     },
     "execution_count": 20,
     "metadata": {},
     "output_type": "execute_result"
    },
    {
     "data": {
      "image/png": "[encoded data removed]",
      "text/plain": [
       "<Figure size 432x288 with 1 Axes>"
      ]
     },
     "metadata": {
      "needs_background": "light"
     },
     "output_type": "display_data"
    }
   ],
   "source": [
    "plt.plot(running_corrects_history, label='training accuracy')\n",
    "plt.plot(val_running_corrects_history, label='validation accuracy')\n",
    "plt.legend()"
   ]
  },
  {
   "cell_type": "code",
   "execution_count": 21,
   "metadata": {},
   "outputs": [
    {
     "name": "stdout",
     "output_type": "stream",
     "text": [
      "<Response [200]>\n"
     ]
    },
    {
     "data": {
      "image/png": "[encoded data removed]",
      "text/plain": [
       "<Figure size 432x288 with 1 Axes>"
      ]
     },
     "metadata": {
      "needs_background": "light"
     },
     "output_type": "display_data"
    }
   ],
   "source": [
    "import requests #to grab an image\n",
    "from PIL import Image #python imaging library\n",
    "import PIL.ImageOps\n",
    "url = 'https://images.homedepot-static.com/productImages/007164ea-d47e-4f66-8d8c-fd9f621984a2/svn/architectural-mailboxes-house-letters-numbers-3585b-5-64_1000.jpg'\n",
    "response = requests.get(url, stream=True)\n",
    "img = Image.open(response.raw)\n",
    "plt.imshow(img)\n",
    "print(response) #successful get request"
   ]
  },
  {
   "cell_type": "code",
   "execution_count": 22,
   "metadata": {},
   "outputs": [
    {
     "data": {
      "text/plain": [
       "<matplotlib.image.AxesImage at 0x7fb234eed850>"
      ]
     },
     "execution_count": 22,
     "metadata": {},
     "output_type": "execute_result"
    },
    {
     "data": {
      "image/png": "[encoded data removed]",
      "text/plain": [
       "<Figure size 432x288 with 1 Axes>"
      ]
     },
     "metadata": {
      "needs_background": "light"
     },
     "output_type": "display_data"
    }
   ],
   "source": [
    "img = PIL.ImageOps.invert(img)\n",
    "img = img.convert('1')\n",
    "img = transform(img) #ensure 28x28 with transform function\n",
    "plt.imshow(im_convert(img))\n",
    "\n",
    "#looks pretty close to MNIST iamges"
   ]
  },
  {
   "cell_type": "code",
   "execution_count": 28,
   "metadata": {},
   "outputs": [
    {
     "name": "stdout",
     "output_type": "stream",
     "text": [
      "5\n"
     ]
    }
   ],
   "source": [
    "images = img.to(device)\n",
    "image = images[0].unsqueeze(0).unsqueeze(0)\n",
    "#this willa ccount for the extra dimensionality \n",
    "output = model(image)\n",
    "_, pred = torch.max(output, 1)\n",
    "print(pred.item()) #redicts the accurate value of 5! "
   ]
  },
  {
   "cell_type": "code",
   "execution_count": 30,
   "metadata": {},
   "outputs": [
    {
     "data": {
      "image/png": "[encoded data removed]",
      "text/plain": [
       "<Figure size 1800x288 with 20 Axes>"
      ]
     },
     "metadata": {},
     "output_type": "display_data"
    }
   ],
   "source": [
    "dataiter = iter(validation_loader)\n",
    "images, labels = dataiter.next()\n",
    "images = images.to(device)\n",
    "labels = labels.to(device)\n",
    "output = model(images)\n",
    "_, preds = torch.max(output, 1)\n",
    "\n",
    "fig = plt.figure(figsize=(25, 4))\n",
    "\n",
    "for idx in np.arange(20):\n",
    "    ax = fig.add_subplot(2, 10, idx+1, xticks=[], yticks=[])\n",
    "    plt.imshow(im_convert(images[idx]))\n",
    "    #modifying the title for each image\n",
    "    #set green if the label is correct, red if label is incorrect\n",
    "    ax.set_title(\"{} ({})\".format(str(preds[idx].item()), str(labels[idx].item())), color=(\"green\" if preds[idx]==labels[idx] else \"red\"))\n"
   ]
  },
  {
   "cell_type": "markdown",
   "metadata": {},
   "source": [
    "Model predicts all the test images! "
   ]
  },
  {
   "cell_type": "code",
   "execution_count": null,
   "metadata": {},
   "outputs": [],
   "source": []
  }
 ],
 "metadata": {
  "kernelspec": {
   "display_name": "Python 3",
   "language": "python",
   "name": "python3"
  },
  "language_info": {
   "codemirror_mode": {
    "name": "ipython",
    "version": 3
   },
   "file_extension": ".py",
   "mimetype": "text/x-python",
   "name": "python",
   "nbconvert_exporter": "python",
   "pygments_lexer": "ipython3",
   "version": "3.7.6"
  }
 },
 "nbformat": 4,
 "nbformat_minor": 4
}
