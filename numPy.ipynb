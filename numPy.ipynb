{
 "cells": [
  {
   "cell_type": "code",
   "execution_count": 6,
   "metadata": {},
   "outputs": [
    {
     "name": "stdout",
     "output_type": "stream",
     "text": [
      "[1, 2, 3]\n",
      "[1, 2, 3]\n",
      "[1, 4, 9]\n",
      "[1, 8, 27]\n",
      "[2, 12, 36]\n"
     ]
    }
   ],
   "source": [
    "#stop integer is exclusive\n",
    "list_two = list(range(1,4))\n",
    "list_three = list(range(1,4))\n",
    "print(list_two)\n",
    "print(list_three)\n",
    "\n",
    "#this means empty list \n",
    "list_sum = []\n",
    "\n",
    "#3 corresponds to the length of both lists\n",
    "for index in range(3):\n",
    "    #raising each value to the 2nd power\n",
    "    list_two[index] = list_two[index] ** 2\n",
    "    #raising each value to the 3rd power\n",
    "    list_three[index] = list_three[index] ** 3\n",
    "    list_sum.append(list_two[index] + list_three[index])\n",
    "\n",
    "    \n",
    "print(list_two)\n",
    "print(list_three)\n",
    "print(list_sum)"
   ]
  },
  {
   "cell_type": "code",
   "execution_count": 2,
   "metadata": {},
   "outputs": [
    {
     "name": "stdout",
     "output_type": "stream",
     "text": [
      "[1 4 9]\n",
      "[ 1  8 27]\n",
      "[ 2 12 36]\n"
     ]
    }
   ],
   "source": [
    "import numpy as np\n",
    "#arrange is simialar to the range in python. Prints array instead of list\n",
    "array_two = np.arange(1,4) ** 2\n",
    "#arrays have no commas. We can directly do math on array, but not on lists\n",
    "print(array_two)\n",
    "array_three = np.arange(1,4) ** 3\n",
    "print(array_three)\n",
    "print(array_two + array_three)\n",
    "\n",
    "#we cannot add lists directly together, but can with arrays\n",
    "#numpy has a lot of mathetmatical functions that we can use on arrays"
   ]
  },
  {
   "cell_type": "code",
   "execution_count": 26,
   "metadata": {},
   "outputs": [
    {
     "name": "stdout",
     "output_type": "stream",
     "text": [
      "[ 1 16 81]\n"
     ]
    }
   ],
   "source": [
    "#np.power raise all numbers to a corresponding power. \n",
    "#np.array Converts a list to an array. 4 is the corresponding power\n",
    "print(np.power(np.array([1, 2, 3]), 4))\n",
    "\n",
    "#Could also to do \n",
    "#print(np.array([1, 2, 3]) ** 4)"
   ]
  },
  {
   "cell_type": "code",
   "execution_count": 28,
   "metadata": {},
   "outputs": [
    {
     "name": "stdout",
     "output_type": "stream",
     "text": [
      "[-1 -2 -3]\n"
     ]
    }
   ],
   "source": [
    "#gives you negative values of everything\n",
    "print(np.negative(np.array([1, 2, 3])))"
   ]
  },
  {
   "cell_type": "code",
   "execution_count": 29,
   "metadata": {},
   "outputs": [
    {
     "name": "stdout",
     "output_type": "stream",
     "text": [
      "[ 2.71828183  7.3890561  20.08553692]\n"
     ]
    }
   ],
   "source": [
    "#gives you exponential. e^1, e^2, e^3\n",
    "sample_array = np.array([1, 2, 3])\n",
    "print(np.exp(sample_array))"
   ]
  },
  {
   "cell_type": "code",
   "execution_count": 30,
   "metadata": {},
   "outputs": [
    {
     "name": "stdout",
     "output_type": "stream",
     "text": [
      "[0.         0.69314718 1.09861229]\n"
     ]
    }
   ],
   "source": [
    "#take the log of everything\n",
    "print(np.log(sample_array))"
   ]
  },
  {
   "cell_type": "code",
   "execution_count": 31,
   "metadata": {},
   "outputs": [
    {
     "name": "stdout",
     "output_type": "stream",
     "text": [
      "[0.84147098 0.90929743 0.14112001]\n"
     ]
    }
   ],
   "source": [
    "#take the sin of all values\n",
    "print(np.sin(sample_array))"
   ]
  },
  {
   "cell_type": "code",
   "execution_count": 39,
   "metadata": {},
   "outputs": [
    {
     "name": "stdout",
     "output_type": "stream",
     "text": [
      "[[0 1 2]\n",
      " [0 1 2]\n",
      " [0 1 2]]\n",
      "(3, 3)\n"
     ]
    }
   ],
   "source": [
    "#numpy has these mathematical functions that are \n",
    "#available to us that are much simpler than python counterpart\n",
    "\n",
    "import numpy as np\n",
    "x = np.arange(3)\n",
    "y = np.arange(3)\n",
    "z = np.arange(3)\n",
    "\n",
    "multi_array = np.array([x, y, z])\n",
    "print(multi_array)\n",
    "print(multi_array.shape)"
   ]
  },
  {
   "cell_type": "code",
   "execution_count": 40,
   "metadata": {},
   "outputs": [
    {
     "name": "stdout",
     "output_type": "stream",
     "text": [
      "[ 1.          1.18367347  1.36734694  1.55102041  1.73469388  1.91836735\n",
      "  2.10204082  2.28571429  2.46938776  2.65306122  2.83673469  3.02040816\n",
      "  3.20408163  3.3877551   3.57142857  3.75510204  3.93877551  4.12244898\n",
      "  4.30612245  4.48979592  4.67346939  4.85714286  5.04081633  5.2244898\n",
      "  5.40816327  5.59183673  5.7755102   5.95918367  6.14285714  6.32653061\n",
      "  6.51020408  6.69387755  6.87755102  7.06122449  7.24489796  7.42857143\n",
      "  7.6122449   7.79591837  7.97959184  8.16326531  8.34693878  8.53061224\n",
      "  8.71428571  8.89795918  9.08163265  9.26530612  9.44897959  9.63265306\n",
      "  9.81632653 10.        ]\n"
     ]
    }
   ],
   "source": [
    "#1D array of numbers between 1 to 10, with 50 numbers inbetween evenly spaced\n",
    "w = np.linspace(1, 10, 50)\n",
    "print(w)\n",
    "\n",
    "#not the same as space integer"
   ]
  },
  {
   "cell_type": "code",
   "execution_count": 48,
   "metadata": {},
   "outputs": [
    {
     "name": "stdout",
     "output_type": "stream",
     "text": [
      "[ 1  4  7 10 13 16 19 22 25 28]\n",
      "[ 1.  15.5 30. ]\n"
     ]
    }
   ],
   "source": [
    "#grabs every 3rd element. Doesn't include 30! exclusive. final entry gives you step\n",
    "b = np.arange(1, 30, 3)\n",
    "print(b)\n",
    "\n",
    "#grabs 3 numbers between 1 to 30 evenly spaced. Final entry true/false lets the number go to 30 or not\n",
    "a = np.linspace(1, 30, 3, True)\n",
    "print(a)"
   ]
  },
  {
   "cell_type": "code",
   "execution_count": 51,
   "metadata": {},
   "outputs": [
    {
     "name": "stdout",
     "output_type": "stream",
     "text": [
      "[[0 1 2]\n",
      " [3 4 5]\n",
      " [6 7 8]]\n",
      "(3, 3)\n"
     ]
    },
    {
     "data": {
      "text/plain": [
       "5"
      ]
     },
     "execution_count": 51,
     "metadata": {},
     "output_type": "execute_result"
    }
   ],
   "source": [
    "import numpy as np\n",
    "x = np.arange(3)\n",
    "y = np.arange(3, 6)\n",
    "z = np.arange(6, 9)\n",
    "\n",
    "multi_array = np.array([x, y, z])\n",
    "print(multi_array)\n",
    "print(multi_array.shape)\n",
    "#rows and columns are indexed starting from 0\n",
    "multi_array[1,2]\n",
    "\n",
    "#numpy arras are homogeneous, so elements are described as data type"
   ]
  },
  {
   "cell_type": "code",
   "execution_count": 53,
   "metadata": {},
   "outputs": [
    {
     "name": "stdout",
     "output_type": "stream",
     "text": [
      "int64\n"
     ]
    }
   ],
   "source": [
    "print(multi_array.dtype)\n",
    "#all the elements are 64 bit integers. \n",
    "#can also change to np.unit8 or int16, etc. "
   ]
  },
  {
   "cell_type": "code",
   "execution_count": 61,
   "metadata": {},
   "outputs": [
    {
     "name": "stdout",
     "output_type": "stream",
     "text": [
      "[1 2 3 4 5 6 7 8 9]\n",
      "[3 4 5 6 7]\n",
      "[3 5 7]\n"
     ]
    }
   ],
   "source": [
    "#How to do 1D slicing of arrays\n",
    "#slicing has a start, stop and step (space in between the values)\n",
    "import numpy as np\n",
    "x = np.arange(1, 10)\n",
    "print(x)\n",
    "\n",
    "#now want to grab everything from 3 to 7 (which is index starting 0 to 6)\n",
    "print(x[2:7])\n",
    "\n",
    "#this prints every 2nd value\n",
    "print(x[2:7:2])\n"
   ]
  },
  {
   "cell_type": "code",
   "execution_count": 71,
   "metadata": {},
   "outputs": [
    {
     "name": "stdout",
     "output_type": "stream",
     "text": [
      "[[[ 0  1]\n",
      "  [ 2  3]\n",
      "  [ 4  5]]\n",
      "\n",
      " [[ 6  7]\n",
      "  [ 8  9]\n",
      "  [10 11]]\n",
      "\n",
      " [[12 13]\n",
      "  [14 15]\n",
      "  [16 17]]]\n"
     ]
    }
   ],
   "source": [
    "#Reshape multi_dimensional arrays\n",
    "import numpy as np\n",
    "#9 elements ranging from 0 to 8\n",
    "x = np.arange(9) \n",
    "#print(x)\n",
    "\n",
    "#now we're going to reshape to have 3 rows and 3 columns\n",
    "x = np.arange(9).reshape(3, 3)\n",
    "#print(x)\n",
    "#can also do x = np.arange(9).reshape(3, -1). the -1 is the unknown based on 3 rows\n",
    "\n",
    "#this array has 18 elements, to have 2 blocks of data with 3x3 arrays\n",
    "x = np.arange(18).reshape(2,3,3)\n",
    "#print(x)\n",
    "\n",
    "#3 blocks of data, with 3 rows and 2 columns. Reshape must be compatible with dimensions of data\n",
    "x = np.arange(18).reshape(3,3,2)\n",
    "print(x)"
   ]
  },
  {
   "cell_type": "code",
   "execution_count": 87,
   "metadata": {},
   "outputs": [
    {
     "name": "stdout",
     "output_type": "stream",
     "text": [
      "[[[ 0  1  2]\n",
      "  [ 3  4  5]]\n",
      "\n",
      " [[ 6  7  8]\n",
      "  [ 9 10 11]]\n",
      "\n",
      " [[12 13 14]\n",
      "  [15 16 17]]]\n",
      "10\n",
      "[[ 6  7  8]\n",
      " [ 9 10 11]]\n"
     ]
    }
   ],
   "source": [
    "#multidimensional slicing\n",
    "import numpy as np\n",
    "x = np.arange(18).reshape(3, 2, 3)\n",
    "print(x)\n",
    "\n",
    "#building with 3 floors. Starts with 0 index. Selecting 10\n",
    "print(x[1,1,1])\n",
    "\n",
    "#If we want to slice 6 to 11, 2nd block of data with index of 1\n",
    "#both present in the 1st and 2nd row so we go from 0:2\n",
    "#all present in the 1st to 3rd column, so we go from 0:3 (exclusive to 2)\n",
    "#print(x[1, 0:2, 0:3])\n",
    "\n",
    "#we can also omit the range, so it is inferred to access from 0\n",
    "#print(x[1, :2, :3])\n",
    "\n",
    "#but can also omit the stop integer to get the entire row and column too\n",
    "#print(x[1, :, :])\n",
    "\n",
    "#another way is to just use ellipses as a shortcut\n",
    "print(x[1, ...])"
   ]
  },
  {
   "cell_type": "code",
   "execution_count": 89,
   "metadata": {},
   "outputs": [
    {
     "name": "stdout",
     "output_type": "stream",
     "text": [
      "[ 0  6 12]\n"
     ]
    }
   ],
   "source": [
    "#to just get the first valaue 0 row and 0 column, of each box\n",
    "print(x[:, 0, 0])"
   ]
  },
  {
   "cell_type": "code",
   "execution_count": 90,
   "metadata": {},
   "outputs": [
    {
     "name": "stdout",
     "output_type": "stream",
     "text": [
      "[[ 6  8]\n",
      " [ 9 11]]\n"
     ]
    }
   ],
   "source": [
    "#can also select the 2nd element of each slice by setting a step size of 2\n",
    "print(x[1, :2, :3 :2])"
   ]
  },
  {
   "cell_type": "code",
   "execution_count": 92,
   "metadata": {},
   "outputs": [
    {
     "name": "stdout",
     "output_type": "stream",
     "text": [
      "[[[False False False]\n",
      "  [False False False]]\n",
      "\n",
      " [[ True  True  True]\n",
      "  [ True  True  True]]\n",
      "\n",
      " [[ True  True  True]\n",
      "  [ True  True  True]]]\n",
      "[ 6  7  8  9 10 11 12 13 14 15 16 17]\n"
     ]
    }
   ],
   "source": [
    "#This evaluates the elements in x, if they're greater than 5\n",
    "comparison_operation = x > 5\n",
    "print(comparison_operation)\n",
    "\n",
    "#Can then just get the values of x that are greater than 5\n",
    "print(x[comparison_operation])"
   ]
  },
  {
   "cell_type": "code",
   "execution_count": 93,
   "metadata": {},
   "outputs": [
    {
     "name": "stdout",
     "output_type": "stream",
     "text": [
      "[ 6  7  8  9 10 11 12 13 14 15 16 17]\n"
     ]
    }
   ],
   "source": [
    "#Can also do this directly\n",
    "print(x[x>5])"
   ]
  },
  {
   "cell_type": "code",
   "execution_count": 97,
   "metadata": {},
   "outputs": [
    {
     "name": "stdout",
     "output_type": "stream",
     "text": [
      "17\n",
      "0\n"
     ]
    }
   ],
   "source": [
    "#grab the maximum number with\n",
    "print(x.max())\n",
    "\n",
    "#grab the minimum number with\n",
    "print(x.min())"
   ]
  },
  {
   "cell_type": "code",
   "execution_count": 112,
   "metadata": {},
   "outputs": [
    {
     "name": "stdout",
     "output_type": "stream",
     "text": [
      "[[0 1 2]\n",
      " [3 4 5]\n",
      " [6 7 8]]\n",
      "[0 1 2 3 4 5 6 7 8]\n",
      "[0 1 2 3 4 5 6 7 8]\n"
     ]
    }
   ],
   "source": [
    "#manipulating array shapes\n",
    "#ravel condenses a multidimensional array into a 1D array\n",
    "import numpy as np\n",
    "x = np.arange(9).reshape(3,3)\n",
    "print(x)\n",
    "\n",
    "ravelled_array = x.ravel()\n",
    "print(ravelled_array)\n",
    "\n",
    "#can also do the same with the 'flattened', but the difference can't be seen with print statement\n",
    "#flatten only returns a copy and allocates new memory while ravel returns a view \n",
    "flattened_array = x.flatten()\n",
    "print(flattened_array)"
   ]
  },
  {
   "cell_type": "code",
   "execution_count": 110,
   "metadata": {},
   "outputs": [
    {
     "name": "stdout",
     "output_type": "stream",
     "text": [
      "[      0       1 1000000       3       4       5       6       7       8]\n",
      "[[      0       1 1000000]\n",
      " [      3       4       5]\n",
      " [      6       7       8]]\n"
     ]
    }
   ],
   "source": [
    "#if modify ravel, it would also modify the original array\n",
    "ravelled_array[2] = 1000000\n",
    "print(ravelled_array)\n",
    "print(x)\n",
    "#the change is reflected in both"
   ]
  },
  {
   "cell_type": "code",
   "execution_count": 115,
   "metadata": {},
   "outputs": [
    {
     "name": "stdout",
     "output_type": "stream",
     "text": [
      "[      0       1 1000000       3       4       5       6       7       8]\n",
      "[[0 1 2]\n",
      " [3 4 5]\n",
      " [6 7 8]]\n"
     ]
    }
   ],
   "source": [
    "#but since flatten stores a copy, changing a value will not have an effect on the original array\n",
    "flattened_array = x.flatten()\n",
    "flattened_array[2] = 1000000\n",
    "print(flattened_array)\n",
    "print(x)\n",
    "\n",
    "#flatten allocates memory and ravel may be good, but need to be mindful ravel changes original too"
   ]
  },
  {
   "cell_type": "code",
   "execution_count": 119,
   "metadata": {},
   "outputs": [
    {
     "name": "stdout",
     "output_type": "stream",
     "text": [
      "[[0 1 2]\n",
      " [3 4 5]\n",
      " [6 7 8]]\n",
      "[[0 3 6]\n",
      " [1 4 7]\n",
      " [2 5 8]]\n",
      "[[0 3 6]\n",
      " [1 4 7]\n",
      " [2 5 8]]\n"
     ]
    }
   ],
   "source": [
    "y = np.arange(9)\n",
    "#don't need to use .reshape, can set shape like so\n",
    "y.shape = [3,3]\n",
    "print(y)\n",
    "\n",
    "#can also flip along diagonal, or get it's transpose. need to put argument of none\n",
    "print(y.transpose())\n",
    "#can also use y.T, with no arguments\n",
    "print(y.T)"
   ]
  },
  {
   "cell_type": "code",
   "execution_count": 121,
   "metadata": {},
   "outputs": [
    {
     "name": "stdout",
     "output_type": "stream",
     "text": [
      "[[0 1 2 3 4 5]\n",
      " [6 7 8 0 1 2]\n",
      " [3 4 5 6 7 8]\n",
      " [0 1 2 3 4 5]\n",
      " [6 7 8 0 1 2]\n",
      " [3 4 5 6 7 8]]\n"
     ]
    }
   ],
   "source": [
    "#if want to resize the data to a bigger one, can resize and the data will repeat to fill it up\n",
    "print(np.resize(y, (6, 6)))"
   ]
  },
  {
   "cell_type": "code",
   "execution_count": 130,
   "metadata": {},
   "outputs": [
    {
     "name": "stdout",
     "output_type": "stream",
     "text": [
      "[0 0 0]\n",
      "[[0 0]\n",
      " [0 0]\n",
      " [0 0]]\n"
     ]
    }
   ],
   "source": [
    "print(np.zeros((3), dtype=int))\n",
    "\n",
    "#can also arrange the data in a different shape\n",
    "print(np.zeros((3,2), dtype=int))"
   ]
  },
  {
   "cell_type": "code",
   "execution_count": 131,
   "metadata": {},
   "outputs": [
    {
     "name": "stdout",
     "output_type": "stream",
     "text": [
      "[[1 1]\n",
      " [1 1]\n",
      " [1 1]]\n"
     ]
    }
   ],
   "source": [
    "#instead of zeros you can get ones instead\n",
    "print(np.ones((3,2), dtype=int))"
   ]
  },
  {
   "cell_type": "code",
   "execution_count": 134,
   "metadata": {},
   "outputs": [
    {
     "name": "stdout",
     "output_type": "stream",
     "text": [
      "[[1. 0. 0.]\n",
      " [0. 1. 0.]\n",
      " [0. 0. 1.]]\n"
     ]
    }
   ],
   "source": [
    "print(np.eye(3))"
   ]
  },
  {
   "cell_type": "code",
   "execution_count": 136,
   "metadata": {},
   "outputs": [
    {
     "name": "stdout",
     "output_type": "stream",
     "text": [
      "[[0.60038393 0.57031672 0.9336135  0.59186764]\n",
      " [0.66662002 0.16222037 0.13477845 0.08834588]\n",
      " [0.51047132 0.67512818 0.73052032 0.59074635]\n",
      " [0.6806813  0.55804561 0.76726623 0.2298074 ]]\n"
     ]
    }
   ],
   "source": [
    "#prints random values between 0 and 1\n",
    "print(np.random.rand(4,4))"
   ]
  },
  {
   "cell_type": "code",
   "execution_count": 150,
   "metadata": {},
   "outputs": [
    {
     "name": "stdout",
     "output_type": "stream",
     "text": [
      "[[0 3 5]\n",
      " [5 5 2]]\n",
      "[[0 3 5]\n",
      " [5 5 2]]\n"
     ]
    }
   ],
   "source": [
    "#multiplying matrices together\n",
    "import numpy as np\n",
    "mat_a = np.matrix([0, 3, 5, 5, 5, 2]).reshape(2,3)\n",
    "print(mat_a)\n",
    "\n",
    "#can also write np.array too\n",
    "mat_aa = np.array([0, 3, 5, 5, 5, 2]).reshape(2,3)\n",
    "print(mat_aa)"
   ]
  },
  {
   "cell_type": "code",
   "execution_count": 144,
   "metadata": {},
   "outputs": [
    {
     "name": "stdout",
     "output_type": "stream",
     "text": [
      "[[ 3  4]\n",
      " [ 3 -2]\n",
      " [ 4 -2]]\n"
     ]
    }
   ],
   "source": [
    "mat_b = np.matrix([3, 4, 3, -2, 4, -2]).reshape(3,2)\n",
    "print(mat_b)"
   ]
  },
  {
   "cell_type": "code",
   "execution_count": 151,
   "metadata": {},
   "outputs": [
    {
     "name": "stdout",
     "output_type": "stream",
     "text": [
      "[[ 29 -16]\n",
      " [ 38   6]]\n",
      "[[ 29 -16]\n",
      " [ 38   6]]\n",
      "[[ 29 -16]\n",
      " [ 38   6]]\n"
     ]
    }
   ],
   "source": [
    "print(mat_a * mat_b)\n",
    "\n",
    "#can also write this\n",
    "product = np.matmul(mat_a, mat_b)\n",
    "print(product)\n",
    "\n",
    "#can also do this\n",
    "print(mat_a @ mat_b)"
   ]
  },
  {
   "cell_type": "code",
   "execution_count": 18,
   "metadata": {},
   "outputs": [
    {
     "name": "stdout",
     "output_type": "stream",
     "text": [
      "[[0 1]\n",
      " [2 3]]\n",
      "[[4 5]\n",
      " [6 7]]\n",
      "[[0 1 4 5]\n",
      " [2 3 6 7]]\n",
      "(2, 4)\n"
     ]
    }
   ],
   "source": [
    "#Stacking\n",
    "import numpy as np\n",
    "\n",
    "#making an array with 4 elements 0 to 3 (index starts at zero)\n",
    "x = np.arange(4).reshape(2,2)\n",
    "print(x)\n",
    "\n",
    "#making a new array with 4 elements, numbers 4 to 7\n",
    "y = np.arange(4, 8).reshape(2,2)\n",
    "print(y)\n",
    "\n",
    "#to stack the two matrices horizontally. to do this both need to have same number of rows\n",
    "z = np.hstack((x, y))\n",
    "print(z)\n",
    "#looking at the shape of z, the number of columns increases 2x4\n",
    "print(z.shape)"
   ]
  },
  {
   "cell_type": "code",
   "execution_count": 19,
   "metadata": {},
   "outputs": [
    {
     "name": "stdout",
     "output_type": "stream",
     "text": [
      "[[0 1]\n",
      " [2 3]\n",
      " [4 5]\n",
      " [6 7]]\n",
      "[[0 1]\n",
      " [2 3]\n",
      " [0 1]\n",
      " [2 3]\n",
      " [4 5]\n",
      " [6 7]]\n",
      "(6, 2)\n"
     ]
    }
   ],
   "source": [
    "#when vertically stacking, the arrays must have the same number of columns instead\n",
    "yy = np.arange(8).reshape(4,2)\n",
    "print(yy)\n",
    "\n",
    "#increases the number of rows instead of columns\n",
    "zz = np.vstack((x, yy))\n",
    "print(zz)\n",
    "print(zz.shape)"
   ]
  },
  {
   "cell_type": "code",
   "execution_count": 20,
   "metadata": {},
   "outputs": [
    {
     "name": "stdout",
     "output_type": "stream",
     "text": [
      "[[0 1]\n",
      " [2 3]\n",
      " [4 5]\n",
      " [6 7]]\n",
      "[[0 1 4 5]\n",
      " [2 3 6 7]]\n"
     ]
    }
   ],
   "source": [
    "#similar to stacking is concatenate. with the axis = 0, that's the rows. so similar to vstack\n",
    "w = np.concatenate((x,y), axis = 0)\n",
    "print(w)\n",
    "\n",
    "#axis 1 is for the horizontal stacking, so make sure the number of rows match\n",
    "v = np.concatenate((x,y), axis = 1)\n",
    "print(v)"
   ]
  },
  {
   "cell_type": "code",
   "execution_count": 21,
   "metadata": {},
   "outputs": [
    {
     "name": "stdout",
     "output_type": "stream",
     "text": [
      "[[0 1 4 5]\n",
      " [2 3 6 7]]\n",
      "[[ True  True  True  True]\n",
      " [ True  True  True  True]]\n"
     ]
    }
   ],
   "source": [
    "#can also horizontally stack both which is the same as concatenating on the aaxis 1\n",
    "z = np.hstack((x,y))\n",
    "print(z)\n",
    "#compare to arrays\n",
    "print(z == v)\n"
   ]
  },
  {
   "cell_type": "code",
   "execution_count": 22,
   "metadata": {},
   "outputs": [
    {
     "name": "stdout",
     "output_type": "stream",
     "text": [
      "[[[0 0]\n",
      "  [1 2]]\n",
      "\n",
      " [[2 4]\n",
      "  [3 6]]]\n",
      "(2, 2, 2)\n"
     ]
    }
   ],
   "source": [
    "#depth stacking is stacking on the 3rd axis. Need to have equiv rows and columsn\n",
    "y = x * 2\n",
    "#both of these arrays are 2D. depth stack stacks on 3D, so it will reshape both arrays and add another \n",
    "#dimension with size 1\n",
    "depth_stack = np.dstack((x,y))\n",
    "print(depth_stack)\n",
    "#two floors, two rows, two columns\n",
    "print(depth_stack.shape)"
   ]
  },
  {
   "cell_type": "code",
   "execution_count": 25,
   "metadata": {},
   "outputs": [
    {
     "name": "stdout",
     "output_type": "stream",
     "text": [
      "[[0 1 0 2]\n",
      " [2 3 4 6]]\n",
      "[[ True  True  True  True]\n",
      " [ True  True  True  True]]\n",
      "[[0 0]\n",
      " [1 2]\n",
      " [2 4]\n",
      " [3 6]]\n",
      "[0 1 2 3 0 2 4 6]\n"
     ]
    }
   ],
   "source": [
    "#column stacking stacks arrays on the 2nd axis. equiv. to hstacking\n",
    "print(np.column_stack((x,y)))\n",
    "#two equal bars is comparison\n",
    "print(np.column_stack((x,y)) == np.hstack((x,y)))\n",
    "\n",
    "#but these two functions not equiv when using 1D arrays \n",
    "s = np.arange(4)\n",
    "t = s * 2\n",
    "#still stacks by columns to make a 2D array\n",
    "print(np.column_stack((s,t)))\n",
    "print(np.hstack((s,t)))"
   ]
  },
  {
   "cell_type": "code",
   "execution_count": 27,
   "metadata": {},
   "outputs": [
    {
     "name": "stdout",
     "output_type": "stream",
     "text": [
      "[[ True  True]\n",
      " [ True  True]\n",
      " [ True  True]\n",
      " [ True  True]]\n"
     ]
    }
   ],
   "source": [
    "#row stack is similar to vertical stacking\n",
    "print(np.row_stack((x,y)) == np.vstack((x,y)))"
   ]
  },
  {
   "cell_type": "code",
   "execution_count": null,
   "metadata": {},
   "outputs": [],
   "source": []
  }
 ],
 "metadata": {
  "kernelspec": {
   "display_name": "Python 3",
   "language": "python",
   "name": "python3"
  },
  "language_info": {
   "codemirror_mode": {
    "name": "ipython",
    "version": 3
   },
   "file_extension": ".py",
   "mimetype": "text/x-python",
   "name": "python",
   "nbconvert_exporter": "python",
   "pygments_lexer": "ipython3",
   "version": "3.7.6"
  }
 },
 "nbformat": 4,
 "nbformat_minor": 4
}
