{
 "cells": [
  {
   "cell_type": "code",
   "execution_count": 1,
   "metadata": {},
   "outputs": [
    {
     "name": "stdout",
     "output_type": "stream",
     "text": [
      "2\n"
     ]
    }
   ],
   "source": [
    "#arithmatic operators \n",
    "print(1+1)"
   ]
  },
  {
   "cell_type": "code",
   "execution_count": 2,
   "metadata": {},
   "outputs": [
    {
     "name": "stdout",
     "output_type": "stream",
     "text": [
      "0\n"
     ]
    }
   ],
   "source": [
    "print(1-1)"
   ]
  },
  {
   "cell_type": "code",
   "execution_count": 3,
   "metadata": {},
   "outputs": [
    {
     "name": "stdout",
     "output_type": "stream",
     "text": [
      "49\n"
     ]
    }
   ],
   "source": [
    "print(7*7)"
   ]
  },
  {
   "cell_type": "code",
   "execution_count": 4,
   "metadata": {},
   "outputs": [
    {
     "name": "stdout",
     "output_type": "stream",
     "text": [
      "2.0\n"
     ]
    }
   ],
   "source": [
    "print(10/5)"
   ]
  },
  {
   "cell_type": "code",
   "execution_count": 5,
   "metadata": {},
   "outputs": [
    {
     "name": "stdout",
     "output_type": "stream",
     "text": [
      "6.5\n"
     ]
    }
   ],
   "source": [
    "#gives you division\n",
    "print(13/2)"
   ]
  },
  {
   "cell_type": "code",
   "execution_count": 6,
   "metadata": {},
   "outputs": [
    {
     "name": "stdout",
     "output_type": "stream",
     "text": [
      "6\n"
     ]
    }
   ],
   "source": [
    "#rounds down the division number\n",
    "print(13//2)"
   ]
  },
  {
   "cell_type": "code",
   "execution_count": 208,
   "metadata": {},
   "outputs": [
    {
     "name": "stdout",
     "output_type": "stream",
     "text": [
      "0\n"
     ]
    }
   ],
   "source": [
    "#gives you remainder\n",
    "print(6%2)"
   ]
  },
  {
   "cell_type": "code",
   "execution_count": 8,
   "metadata": {},
   "outputs": [
    {
     "name": "stdout",
     "output_type": "stream",
     "text": [
      "1\n"
     ]
    }
   ],
   "source": [
    "print(9%2)"
   ]
  },
  {
   "cell_type": "code",
   "execution_count": 9,
   "metadata": {},
   "outputs": [
    {
     "name": "stdout",
     "output_type": "stream",
     "text": [
      "36\n"
     ]
    }
   ],
   "source": [
    "print(6**2)"
   ]
  },
  {
   "cell_type": "code",
   "execution_count": 10,
   "metadata": {},
   "outputs": [
    {
     "name": "stdout",
     "output_type": "stream",
     "text": [
      "36\n"
     ]
    }
   ],
   "source": [
    "print( 6 + 9 * 3 + 3 )"
   ]
  },
  {
   "cell_type": "code",
   "execution_count": 11,
   "metadata": {},
   "outputs": [
    {
     "name": "stdout",
     "output_type": "stream",
     "text": [
      "25\n"
     ]
    }
   ],
   "source": [
    "age = 25\n",
    "print(age)"
   ]
  },
  {
   "cell_type": "code",
   "execution_count": 12,
   "metadata": {},
   "outputs": [
    {
     "name": "stdout",
     "output_type": "stream",
     "text": [
      "25 John male\n"
     ]
    }
   ],
   "source": [
    "age = 25\n",
    "name = \"John\"\n",
    "gender = \"male\"\n",
    "print(age, name, gender)\n",
    "#printed a list"
   ]
  },
  {
   "cell_type": "code",
   "execution_count": 13,
   "metadata": {},
   "outputs": [
    {
     "name": "stdout",
     "output_type": "stream",
     "text": [
      "25 John male\n"
     ]
    }
   ],
   "source": [
    "age, name, gender = 25, \"John\", \"male\"\n",
    "print(age, name, gender)"
   ]
  },
  {
   "cell_type": "code",
   "execution_count": 17,
   "metadata": {},
   "outputs": [
    {
     "name": "stdout",
     "output_type": "stream",
     "text": [
      "2.3333333333333335\n"
     ]
    }
   ],
   "source": [
    "#value given is called a float - decimal \n",
    "x = 7\n",
    "y = 3\n",
    "z = x/y\n",
    "print(z)"
   ]
  },
  {
   "cell_type": "code",
   "execution_count": 21,
   "metadata": {},
   "outputs": [
    {
     "name": "stdout",
     "output_type": "stream",
     "text": [
      "<class 'int'>\n"
     ]
    }
   ],
   "source": [
    "x = 7\n",
    "print(type(x))"
   ]
  },
  {
   "cell_type": "code",
   "execution_count": 24,
   "metadata": {},
   "outputs": [
    {
     "name": "stdout",
     "output_type": "stream",
     "text": [
      "4.5\n",
      "<class 'float'>\n"
     ]
    }
   ],
   "source": [
    "y = 2+2.5\n",
    "print(y)\n",
    "print(type(y))\n"
   ]
  },
  {
   "cell_type": "code",
   "execution_count": 25,
   "metadata": {},
   "outputs": [
    {
     "name": "stdout",
     "output_type": "stream",
     "text": [
      "1.0\n"
     ]
    }
   ],
   "source": [
    "print(2/2)"
   ]
  },
  {
   "cell_type": "code",
   "execution_count": 27,
   "metadata": {},
   "outputs": [
    {
     "name": "stdout",
     "output_type": "stream",
     "text": [
      "2.0\n"
     ]
    }
   ],
   "source": [
    "print(7/3.5)"
   ]
  },
  {
   "cell_type": "code",
   "execution_count": 28,
   "metadata": {},
   "outputs": [
    {
     "name": "stdout",
     "output_type": "stream",
     "text": [
      "2\n"
     ]
    }
   ],
   "source": [
    "print(int(7/3.5))"
   ]
  },
  {
   "cell_type": "code",
   "execution_count": 29,
   "metadata": {},
   "outputs": [
    {
     "name": "stdout",
     "output_type": "stream",
     "text": [
      "3\n"
     ]
    }
   ],
   "source": [
    "print(int(3.7))"
   ]
  },
  {
   "cell_type": "code",
   "execution_count": 32,
   "metadata": {},
   "outputs": [
    {
     "name": "stdout",
     "output_type": "stream",
     "text": [
      "3.0\n"
     ]
    }
   ],
   "source": [
    "#convert an integer to a float\n",
    "some_float = float(3)\n",
    "print(some_float)"
   ]
  },
  {
   "cell_type": "code",
   "execution_count": 34,
   "metadata": {},
   "outputs": [
    {
     "name": "stdout",
     "output_type": "stream",
     "text": [
      "John\n",
      "<class 'str'>\n"
     ]
    }
   ],
   "source": [
    "name = \"John\"\n",
    "print(name)\n",
    "print(type(name))"
   ]
  },
  {
   "cell_type": "code",
   "execution_count": 38,
   "metadata": {},
   "outputs": [
    {
     "name": "stdout",
     "output_type": "stream",
     "text": [
      "John said \"Hello James\", to which which James said \"Hello John\"\n"
     ]
    }
   ],
   "source": [
    "dialogue = 'John said \"Hello James\", to which which James said \"Hello John\"'\n",
    "print(dialogue)"
   ]
  },
  {
   "cell_type": "code",
   "execution_count": 41,
   "metadata": {},
   "outputs": [
    {
     "name": "stdout",
     "output_type": "stream",
     "text": [
      "John said 'Hello James', to which James said 'Hello John, you're the best'\n"
     ]
    }
   ],
   "source": [
    "dialogue = \"John said 'Hello James', to which James said 'Hello John, you\\'re the best'\"\n",
    "print(dialogue)"
   ]
  },
  {
   "cell_type": "code",
   "execution_count": 42,
   "metadata": {},
   "outputs": [
    {
     "name": "stdout",
     "output_type": "stream",
     "text": [
      "I'm 25 years old\n"
     ]
    }
   ],
   "source": [
    "segment_one = 'I\\'m 25 '\n",
    "segment_two = 'years old'\n",
    "full_sentence = segment_one + segment_two\n",
    "print(full_sentence)"
   ]
  },
  {
   "cell_type": "code",
   "execution_count": 43,
   "metadata": {},
   "outputs": [
    {
     "name": "stdout",
     "output_type": "stream",
     "text": [
      "I'm 25 years oldI'm 25 years oldI'm 25 years oldI'm 25 years oldI'm 25 years oldI'm 25 years oldI'm 25 years oldI'm 25 years oldI'm 25 years oldI'm 25 years old\n"
     ]
    }
   ],
   "source": [
    "long_sentence = full_sentence*10\n",
    "print(long_sentence)"
   ]
  },
  {
   "cell_type": "code",
   "execution_count": 45,
   "metadata": {},
   "outputs": [
    {
     "name": "stdout",
     "output_type": "stream",
     "text": [
      "160\n"
     ]
    }
   ],
   "source": [
    "#counts the characters in a sentence\n",
    "length_of_long_sentence = len(long_sentence)\n",
    "print(length_of_long_sentence)"
   ]
  },
  {
   "cell_type": "code",
   "execution_count": 47,
   "metadata": {},
   "outputs": [
    {
     "name": "stdout",
     "output_type": "stream",
     "text": [
      "True\n"
     ]
    }
   ],
   "source": [
    "comparison_operation = 1 < 2\n",
    "print(comparison_operation)"
   ]
  },
  {
   "cell_type": "code",
   "execution_count": 48,
   "metadata": {},
   "outputs": [
    {
     "name": "stdout",
     "output_type": "stream",
     "text": [
      "True\n"
     ]
    }
   ],
   "source": [
    "#or operator \n",
    "comparison_operation = 1 < 2 or 2 < 3\n",
    "print(comparison_operation)"
   ]
  },
  {
   "cell_type": "code",
   "execution_count": 51,
   "metadata": {},
   "outputs": [
    {
     "name": "stdout",
     "output_type": "stream",
     "text": [
      "False\n"
     ]
    }
   ],
   "source": [
    "comparison_operation = 1 > 2 and 2 < 3\n",
    "print(comparison_operation)"
   ]
  },
  {
   "cell_type": "code",
   "execution_count": 50,
   "metadata": {},
   "outputs": [
    {
     "name": "stdout",
     "output_type": "stream",
     "text": [
      "False\n"
     ]
    }
   ],
   "source": [
    "comparison_operation = 1 > 2 or 2 > 3\n",
    "print(comparison_operation)"
   ]
  },
  {
   "cell_type": "code",
   "execution_count": 53,
   "metadata": {},
   "outputs": [
    {
     "name": "stdout",
     "output_type": "stream",
     "text": [
      "True\n",
      "False\n"
     ]
    }
   ],
   "source": [
    "comparison_operation = 1 < 2\n",
    "print(comparison_operation)\n",
    "\n",
    "#flips the answer of the boolean value\n",
    "comparison_operation = not 1 < 2\n",
    "print(comparison_operation)"
   ]
  },
  {
   "cell_type": "code",
   "execution_count": 63,
   "metadata": {},
   "outputs": [
    {
     "name": "stdout",
     "output_type": "stream",
     "text": [
      "harry potter and the prisoner of azkaban\n"
     ]
    }
   ],
   "source": [
    "#data type methods. method is a function that is called by a name that is associated with an object. \n",
    "#lower is the method. or upper\n",
    "movie_title = \"Harry Potter and the Prisoner of Azkaban\"\n",
    "print(movie_title.lower())"
   ]
  },
  {
   "cell_type": "code",
   "execution_count": 57,
   "metadata": {},
   "outputs": [
    {
     "name": "stdout",
     "output_type": "stream",
     "text": [
      "Joe\n"
     ]
    }
   ],
   "source": [
    "#list always start with 0 and written in square brackets\n",
    "names = [\"John\", \"Jane\", \"Joe\"]\n",
    "print(names[2])"
   ]
  },
  {
   "cell_type": "code",
   "execution_count": 58,
   "metadata": {},
   "outputs": [
    {
     "name": "stdout",
     "output_type": "stream",
     "text": [
      "5\n"
     ]
    }
   ],
   "source": [
    "#lists can contain mix data types, length starts at 1\n",
    "random_variable = [ True , False , 'Hello' , 0 , 1.2 ]\n",
    "print(len(random_variable))"
   ]
  },
  {
   "cell_type": "code",
   "execution_count": 60,
   "metadata": {},
   "outputs": [
    {
     "name": "stdout",
     "output_type": "stream",
     "text": [
      "5\n",
      "1.2\n"
     ]
    }
   ],
   "source": [
    "random_variable = [ True , False , 'Hello' , 0 , 1.2 ]\n",
    "length = len(random_variable)\n",
    "print(length)\n",
    "final_element = random_variable[length - 1]\n",
    "#need to subtract 1 because the list starts from 0, 1, 2, 3, 4. But the length is 5. \n",
    "print(final_element)"
   ]
  },
  {
   "cell_type": "code",
   "execution_count": 62,
   "metadata": {},
   "outputs": [
    {
     "name": "stdout",
     "output_type": "stream",
     "text": [
      "1.2\n",
      "0\n",
      "Hello\n"
     ]
    }
   ],
   "source": [
    "#can write the random variable starting from the end instead\n",
    "random_variable = [ True , False , 'Hello' , 0 , 1.2 ]\n",
    "print(random_variable[-1])\n",
    "print(random_variable[-2])\n",
    "print(random_variable[-3])"
   ]
  },
  {
   "cell_type": "code",
   "execution_count": 65,
   "metadata": {},
   "outputs": [
    {
     "name": "stdout",
     "output_type": "stream",
     "text": [
      "[1, 2, 3, 4, 5, 6, 7, 8]\n",
      "[0, 1, 2, 3, 4, 5, 6, 7, 8]\n"
     ]
    }
   ],
   "source": [
    "#slicing is not inclusive. It is exclusive so the slicing ends at the index minus 1\n",
    "ordered_numbers = [0, 1, 2, 3, 4, 5, 6, 7, 8, 9, 10]\n",
    "sliced_list = ordered_numbers[1:9]\n",
    "print(sliced_list)\n",
    "\n",
    "#starting from the beginning requires to start the index at 0, because index starts at 0\n",
    "sliced_list2 = ordered_numbers[0:9]\n",
    "print(sliced_list2)"
   ]
  },
  {
   "cell_type": "code",
   "execution_count": 66,
   "metadata": {},
   "outputs": [
    {
     "name": "stdout",
     "output_type": "stream",
     "text": [
      "[0, 1, 2, 3, 4, 5, 6, 7, 8]\n"
     ]
    }
   ],
   "source": [
    "#can also assume that python will start at the start of the index of 0 \n",
    "ordered_numbers = [0, 1, 2, 3, 4, 5, 6, 7, 8, 9, 10]\n",
    "sliced_list = ordered_numbers[:9]\n",
    "print(sliced_list)"
   ]
  },
  {
   "cell_type": "code",
   "execution_count": 68,
   "metadata": {},
   "outputs": [
    {
     "name": "stdout",
     "output_type": "stream",
     "text": [
      "[3, 4, 5, 6, 7, 8, 9, 10]\n"
     ]
    }
   ],
   "source": [
    "#can also access everything to the end of the list\n",
    "ordered_numbers = [0, 1, 2, 3, 4, 5, 6, 7, 8, 9, 10]\n",
    "sliced_list = ordered_numbers[3:]\n",
    "print(sliced_list)"
   ]
  },
  {
   "cell_type": "code",
   "execution_count": 72,
   "metadata": {},
   "outputs": [
    {
     "name": "stdout",
     "output_type": "stream",
     "text": [
      "m\n",
      "me of thro\n"
     ]
    }
   ],
   "source": [
    "#string in python can also be a list of characters, access the 3rd index same as in a list. starts at 0\n",
    "show_title = 'game of thrones'\n",
    "print( show_title[2] )\n",
    "#print a slice\n",
    "print(show_title[2:12])"
   ]
  },
  {
   "cell_type": "code",
   "execution_count": 73,
   "metadata": {},
   "outputs": [
    {
     "name": "stdout",
     "output_type": "stream",
     "text": [
      "[5, 6, 7, 8, 9, 10, 11, 12, 13, 14, 15, 16, 17, 18, 19, 20]\n"
     ]
    }
   ],
   "source": [
    "#creating a list from 0 to 1000 would take a long time, So using range makes it faster\n",
    "#range( start , stop , step ); where to start the argument, when to stop, and what are the increments \n",
    "long_list_of_numbers = list( range(5, 21) )\n",
    "print(long_list_of_numbers)\n",
    "#start is INCLUSIVE (if start at 5, then it starts at 5), but the stop is exclusive. will stop right before"
   ]
  },
  {
   "cell_type": "code",
   "execution_count": 76,
   "metadata": {},
   "outputs": [
    {
     "name": "stdout",
     "output_type": "stream",
     "text": [
      "[0, 1, 2, 3, 4, 5, 6, 7, 8, 9, 10, 11, 12, 13, 14, 15, 16, 17, 18, 19, 20]\n"
     ]
    }
   ],
   "source": [
    "#if don't write the start variable, then it starts at 0\n",
    "long_list_of_numbers = list( range(21) )\n",
    "print(long_list_of_numbers)"
   ]
  },
  {
   "cell_type": "code",
   "execution_count": 77,
   "metadata": {},
   "outputs": [
    {
     "name": "stdout",
     "output_type": "stream",
     "text": [
      "[0, 2, 4, 6, 8, 10, 12, 14, 16, 18, 20]\n"
     ]
    }
   ],
   "source": [
    "#steps of every other number\n",
    "long_list_of_numbers = list( range(0, 21, 2) )\n",
    "print(long_list_of_numbers)"
   ]
  },
  {
   "cell_type": "code",
   "execution_count": 80,
   "metadata": {},
   "outputs": [
    {
     "name": "stdout",
     "output_type": "stream",
     "text": [
      "False\n",
      "True\n"
     ]
    }
   ],
   "source": [
    "#membership operators determines if a certain value is in a list or string. If in the sequence then = true. if not = false\n",
    "months = ['January', 'February', 'April']\n",
    "print('June' in months)\n",
    "print('January' in months)\n"
   ]
  },
  {
   "cell_type": "code",
   "execution_count": 81,
   "metadata": {},
   "outputs": [
    {
     "name": "stdout",
     "output_type": "stream",
     "text": [
      "True\n",
      "False\n"
     ]
    }
   ],
   "source": [
    "#Can also use 'not in' to see if something is not in the list \n",
    "months = ['January', 'February', 'April']\n",
    "print('June' not in months)\n",
    "print('January' not in months)"
   ]
  },
  {
   "cell_type": "code",
   "execution_count": 87,
   "metadata": {},
   "outputs": [
    {
     "name": "stdout",
     "output_type": "stream",
     "text": [
      "True\n",
      "True\n",
      "False\n",
      "True\n"
     ]
    }
   ],
   "source": [
    "#applying to strings instead of lists\n",
    "course = 'Python Crash Course'\n",
    "print( 'Crash' in course )\n",
    "print('rash' in course)\n",
    "print('ftft' in course)\n",
    "print('ftft' not in course)"
   ]
  },
  {
   "cell_type": "code",
   "execution_count": 91,
   "metadata": {},
   "outputs": [
    {
     "name": "stdout",
     "output_type": "stream",
     "text": [
      "['bananas', 'oranges', 'cauliflower']\n"
     ]
    }
   ],
   "source": [
    "#a mutable object can be changed after it is created, and an immutable object can't. lists are mutable\n",
    "grocery_list = ['bananas', 'apples', 'cauliflower']\n",
    "grocery_list[1] = 'oranges'\n",
    "print(grocery_list)"
   ]
  },
  {
   "cell_type": "code",
   "execution_count": 92,
   "metadata": {},
   "outputs": [
    {
     "ename": "TypeError",
     "evalue": "'str' object does not support item assignment",
     "output_type": "error",
     "traceback": [
      "\u001b[0;31m---------------------------------------------------------------------------\u001b[0m",
      "\u001b[0;31mTypeError\u001b[0m                                 Traceback (most recent call last)",
      "\u001b[0;32m<ipython-input-92-ad0d1a0254c5>\u001b[0m in \u001b[0;36m<module>\u001b[0;34m\u001b[0m\n\u001b[1;32m      1\u001b[0m \u001b[0mmisspelled_vegetable\u001b[0m \u001b[0;34m=\u001b[0m \u001b[0;34m'cucomber'\u001b[0m\u001b[0;34m\u001b[0m\u001b[0;34m\u001b[0m\u001b[0m\n\u001b[0;32m----> 2\u001b[0;31m \u001b[0mmisspelled_vegetable\u001b[0m\u001b[0;34m[\u001b[0m\u001b[0;36m3\u001b[0m\u001b[0;34m]\u001b[0m \u001b[0;34m=\u001b[0m \u001b[0;34m'u'\u001b[0m\u001b[0;34m\u001b[0m\u001b[0;34m\u001b[0m\u001b[0m\n\u001b[0m",
      "\u001b[0;31mTypeError\u001b[0m: 'str' object does not support item assignment"
     ]
    }
   ],
   "source": [
    "#strings are immutable\n",
    "misspelled_vegetable = 'cucomber'\n",
    "misspelled_vegetable[3] = 'u'"
   ]
  },
  {
   "cell_type": "code",
   "execution_count": 93,
   "metadata": {},
   "outputs": [
    {
     "name": "stdout",
     "output_type": "stream",
     "text": [
      "Jane\n",
      "John\n"
     ]
    }
   ],
   "source": [
    "#Immutable data type\n",
    "name = 'John'\n",
    "other_name = name\n",
    "name = 'Jane'\n",
    "print(name)\n",
    "print(other_name)\n",
    "#name got reassigned, but other_name was before the reassignment, so it remains John. \n",
    "#We didn't point to the same reference memory. We made a new assignment"
   ]
  },
  {
   "cell_type": "code",
   "execution_count": 97,
   "metadata": {},
   "outputs": [
    {
     "name": "stdout",
     "output_type": "stream",
     "text": [
      "['apples', 'oranges', 'watermelon']\n",
      "['bananas', 'oranges', 'watermelon']\n",
      "['bananas', 'oranges', 'watermelon']\n"
     ]
    }
   ],
   "source": [
    "#Mutable data type\n",
    "fruits = [\"apples\", \"oranges\", \"watermelon\"]\n",
    "other_fruits = fruits\n",
    "print(fruits)\n",
    "fruits[0] = \"bananas\"\n",
    "print(fruits)\n",
    "print(other_fruits)\n",
    "#both variables point to the same reference memory, so by modifying fruits...it also changes the other_fruits."
   ]
  },
  {
   "cell_type": "code",
   "execution_count": 100,
   "metadata": {},
   "outputs": [
    {
     "name": "stdout",
     "output_type": "stream",
     "text": [
      "5\n",
      "9\n"
     ]
    }
   ],
   "source": [
    "#Common functions and methods in lists. The len (or length) function gives the number of characters in a sequence\n",
    "numbers = [3, 5, 6, 7, 9]\n",
    "length_of_numbers = len( numbers )\n",
    "print(length_of_numbers)\n",
    "\n",
    "#max function gives you the maximum number in a sequence\n",
    "numbers = [3, 5, 6, 7, 9]\n",
    "maximum_number = max( numbers )\n",
    "print(maximum_number)"
   ]
  },
  {
   "cell_type": "code",
   "execution_count": 102,
   "metadata": {},
   "outputs": [
    {
     "name": "stdout",
     "output_type": "stream",
     "text": [
      "Zack\n"
     ]
    }
   ],
   "source": [
    "#max also can give you alphabetical order value. biggest is the last (Z)\n",
    "names = [\"Thomas\", \"Gio\", \"Zack\", \"Adam\"]\n",
    "print(max(names))"
   ]
  },
  {
   "cell_type": "code",
   "execution_count": 103,
   "metadata": {},
   "outputs": [
    {
     "ename": "TypeError",
     "evalue": "'>' not supported between instances of 'int' and 'str'",
     "output_type": "error",
     "traceback": [
      "\u001b[0;31m---------------------------------------------------------------------------\u001b[0m",
      "\u001b[0;31mTypeError\u001b[0m                                 Traceback (most recent call last)",
      "\u001b[0;32m<ipython-input-103-5a12bb93f526>\u001b[0m in \u001b[0;36m<module>\u001b[0;34m\u001b[0m\n\u001b[1;32m      1\u001b[0m \u001b[0;31m#But if number and strings used...then we get an error.\u001b[0m\u001b[0;34m\u001b[0m\u001b[0;34m\u001b[0m\u001b[0;34m\u001b[0m\u001b[0m\n\u001b[1;32m      2\u001b[0m \u001b[0mnames\u001b[0m \u001b[0;34m=\u001b[0m \u001b[0;34m[\u001b[0m\u001b[0;34m\"Thomas\"\u001b[0m\u001b[0;34m,\u001b[0m \u001b[0;34m\"Gio\"\u001b[0m\u001b[0;34m,\u001b[0m \u001b[0;34m\"Zack\"\u001b[0m\u001b[0;34m,\u001b[0m \u001b[0;34m\"Adam\"\u001b[0m\u001b[0;34m,\u001b[0m \u001b[0;36m1\u001b[0m\u001b[0;34m]\u001b[0m\u001b[0;34m\u001b[0m\u001b[0;34m\u001b[0m\u001b[0m\n\u001b[0;32m----> 3\u001b[0;31m \u001b[0mprint\u001b[0m\u001b[0;34m(\u001b[0m\u001b[0mmax\u001b[0m\u001b[0;34m(\u001b[0m\u001b[0mnames\u001b[0m\u001b[0;34m)\u001b[0m\u001b[0;34m)\u001b[0m\u001b[0;34m\u001b[0m\u001b[0;34m\u001b[0m\u001b[0m\n\u001b[0m",
      "\u001b[0;31mTypeError\u001b[0m: '>' not supported between instances of 'int' and 'str'"
     ]
    }
   ],
   "source": [
    "#But if integers and strings used...then we get an error.\n",
    "names = [\"Thomas\", \"Gio\", \"Zack\", \"Adam\", 1]\n",
    "print(max(names))"
   ]
  },
  {
   "cell_type": "code",
   "execution_count": 109,
   "metadata": {},
   "outputs": [
    {
     "name": "stdout",
     "output_type": "stream",
     "text": [
      "Adam\n",
      "3\n"
     ]
    }
   ],
   "source": [
    "#minimum value is taken from 'min'\n",
    "names = [\"Thomas\", \"Gio\", \"Zack\", \"Adam\"]\n",
    "print(min(names))\n",
    "\n",
    "numbers = [3, 5, 6, 7, 9]\n",
    "minimum_number = min( numbers )\n",
    "print(minimum_number)"
   ]
  },
  {
   "cell_type": "code",
   "execution_count": 111,
   "metadata": {},
   "outputs": [
    {
     "name": "stdout",
     "output_type": "stream",
     "text": [
      "[3, 5, 6, 7, 9]\n",
      "['Adam', 'Gio', 'Thomas', 'Zack']\n"
     ]
    }
   ],
   "source": [
    "#sorted function sorts values from smallest to largest\n",
    "numbers = [3, 5, 6, 7, 9]\n",
    "sorted_number = sorted( numbers )\n",
    "print(sorted_number)\n",
    "\n",
    "#or alphabetically \n",
    "names = [\"Thomas\", \"Gio\", \"Zack\", \"Adam\"]\n",
    "sorted_names = sorted(names)\n",
    "print(sorted_names)"
   ]
  },
  {
   "cell_type": "code",
   "execution_count": 112,
   "metadata": {},
   "outputs": [
    {
     "name": "stdout",
     "output_type": "stream",
     "text": [
      "january-february-march\n"
     ]
    }
   ],
   "source": [
    "#join method, is a string method that links the elements of a list together\n",
    "#return a string consisting of every element on that list joined by the string\n",
    "joined_string = '-'.join(['january', 'february', 'march'])\n",
    "print(joined_string)"
   ]
  },
  {
   "cell_type": "code",
   "execution_count": 115,
   "metadata": {},
   "outputs": [
    {
     "name": "stdout",
     "output_type": "stream",
     "text": [
      "january february march\n"
     ]
    }
   ],
   "source": [
    "joined_string = ' '.join(['january', 'february', 'march'])\n",
    "print(joined_string)"
   ]
  },
  {
   "cell_type": "code",
   "execution_count": 116,
   "metadata": {},
   "outputs": [
    {
     "name": "stdout",
     "output_type": "stream",
     "text": [
      "this person is tall, slim, and blonde\n"
     ]
    }
   ],
   "source": [
    "#format replaces curly brackets { } in a string with any other string value\n",
    "formatted_string = \"this person is {}, {}, and {}\".format('tall', 'slim', 'blonde')\n",
    "print(formatted_string)"
   ]
  },
  {
   "cell_type": "code",
   "execution_count": 117,
   "metadata": {},
   "outputs": [
    {
     "name": "stdout",
     "output_type": "stream",
     "text": [
      "['January', 'February', 'March', 'April']\n"
     ]
    }
   ],
   "source": [
    "#append method allows you to add something to a list\n",
    "months = ['January', 'February', 'March']\n",
    "months.append('April')\n",
    "print(months)"
   ]
  },
  {
   "cell_type": "code",
   "execution_count": 120,
   "metadata": {},
   "outputs": [
    {
     "name": "stdout",
     "output_type": "stream",
     "text": [
      "tall slim\n"
     ]
    }
   ],
   "source": [
    "#tuples - if multiple values are so related, that you will most likely use them together, use a Tuple\n",
    "#similar to an array but with parentheses \n",
    "traits = ('tall', 'slim', 'blond')\n",
    "height = traits[0]\n",
    "build = traits[1]\n",
    "hair = traits[2]\n",
    "print(height, build)\n",
    "\n",
    "#tuples are immutable and used to store related information. Can't add/remove info without making a new variable"
   ]
  },
  {
   "cell_type": "code",
   "execution_count": 122,
   "metadata": {},
   "outputs": [
    {
     "name": "stdout",
     "output_type": "stream",
     "text": [
      "tall slim blond\n"
     ]
    }
   ],
   "source": [
    "traits = ('tall', 'slim', 'blond')\n",
    "height, build, hair = traits\n",
    "\n",
    "print(height, build, hair)\n",
    "#this assigns the variables to the tuple "
   ]
  },
  {
   "cell_type": "code",
   "execution_count": 126,
   "metadata": {},
   "outputs": [
    {
     "name": "stdout",
     "output_type": "stream",
     "text": [
      "{1, 2, 3}\n",
      "{1, 2, 3, 4}\n"
     ]
    }
   ],
   "source": [
    "#Sets are a mutable , unordered , unique , sequence of elements (so that means no duplicate numbers)\n",
    "duplicate_numbers = [1, 1, 2, 2, 3, 3]\n",
    "unique_numbers = set(duplicate_numbers)\n",
    "print(unique_numbers)\n",
    "#the have a built in add function that works like append\n",
    "unique_numbers.add(4)\n",
    "print(unique_numbers)\n"
   ]
  },
  {
   "cell_type": "code",
   "execution_count": 128,
   "metadata": {},
   "outputs": [
    {
     "name": "stdout",
     "output_type": "stream",
     "text": [
      "{1, 2, 3, 4}\n"
     ]
    }
   ],
   "source": [
    "#if try to add an existing number...then it won't add to the set. \n",
    "unique_numbers.add(3)\n",
    "print(unique_numbers)\n",
    "#because 3 is already added"
   ]
  },
  {
   "cell_type": "code",
   "execution_count": 131,
   "metadata": {},
   "outputs": [
    {
     "name": "stdout",
     "output_type": "stream",
     "text": [
      "True\n"
     ]
    }
   ],
   "source": [
    "#sets are unordered, which means that we can't use indices to find elements in the set\n",
    "print(2 in unique_numbers)"
   ]
  },
  {
   "cell_type": "code",
   "execution_count": 134,
   "metadata": {},
   "outputs": [
    {
     "name": "stdout",
     "output_type": "stream",
     "text": [
      "1.29\n",
      "2.99\n"
     ]
    }
   ],
   "source": [
    "#dictionaries are composed of unique keys. Each unique key corresponds to a value. dictionaries are curly brackets {key: value}\n",
    "#dictionaries have mutable data types, but the keys are immutable and unique - made of strings, numbers, or types\n",
    "#Here the inventory is the dictionary, keys are fruits, and the values are prices\n",
    "inventory = { 'bananas' : 1.29 , 'apples' : 2.99 , 'papayas' : 1.39 }\n",
    "\n",
    "#specify which key you would like to access\n",
    "print(inventory['bananas'])\n",
    "\n",
    "#to modify price of bananas, need to access the key\n",
    "inventory['bananas'] = 2.99\n",
    "print(inventory['bananas'])"
   ]
  },
  {
   "cell_type": "code",
   "execution_count": 140,
   "metadata": {},
   "outputs": [
    {
     "name": "stdout",
     "output_type": "stream",
     "text": [
      "2.99\n",
      "None\n",
      "True\n",
      "False\n"
     ]
    }
   ],
   "source": [
    "#get method looks up values using a specified key\n",
    "bananas_price = inventory.get('bananas')\n",
    "print(bananas_price)\n",
    "\n",
    "#if the key doesn't exist, then it will output none\n",
    "strawberries_price = inventory.get('strawberries')\n",
    "print(strawberries_price)\n",
    "\n",
    "#also can check if an element is in the dictionary\n",
    "print('papayas' in inventory)\n",
    "print('celery' in inventory)"
   ]
  },
  {
   "cell_type": "code",
   "execution_count": 159,
   "metadata": {},
   "outputs": [
    {
     "name": "stdout",
     "output_type": "stream",
     "text": [
      "{'price': 1.29, 'country of origin': 'Guatemala'}\n"
     ]
    }
   ],
   "source": [
    "#to add more data, we can nest dictionaries inside dictionaries. \n",
    "#Grocery item keys as fruits. And then each has price and country of origin\n",
    "grocery_items = {\n",
    "                 'bananas': {'price': 1.29, 'country of origin': 'Guatemala'}, \n",
    "                  'apples': {'price': 2.99, 'country of origin': 'United Kingdom'}, \n",
    "                 'papayas': {'price': 1.39, 'country of origin': 'Costa Rica'}\n",
    "                }\n",
    "print(grocery_items['bananas'])"
   ]
  },
  {
   "cell_type": "code",
   "execution_count": 146,
   "metadata": {},
   "outputs": [
    {
     "name": "stdout",
     "output_type": "stream",
     "text": [
      "Guatemala\n"
     ]
    }
   ],
   "source": [
    "#to only get country of origin. You just have to add an extra set of brackets to access a nested key. \n",
    "#First we looked up the key bananas, then we went deeper \n",
    "#and looked up country of origin which returned the value Guatemala.\n",
    "print(grocery_items['bananas']['country of origin'])"
   ]
  },
  {
   "cell_type": "code",
   "execution_count": 149,
   "metadata": {},
   "outputs": [
    {
     "name": "stdout",
     "output_type": "stream",
     "text": [
      "The status is False\n"
     ]
    }
   ],
   "source": [
    "#control flow is how you control how the code is run. build logic and determine the sequence in which code executes \n",
    "#If-else statements are conditions\n",
    "\n",
    "#if (condition):\n",
    "#  //code executes if condition is True\n",
    "#else:\n",
    "#  //code executes if condition is False\n",
    "\n",
    "status = False\n",
    "\n",
    "if (status):\n",
    "  print('The status is True')\n",
    "else:\n",
    "  print('The status is False')"
   ]
  },
  {
   "cell_type": "code",
   "execution_count": 161,
   "metadata": {},
   "outputs": [
    {
     "name": "stdout",
     "output_type": "stream",
     "text": [
      "The item exists\n"
     ]
    }
   ],
   "source": [
    "#can also use in to figure if an element exists in the dictionary\n",
    "item = 'brussel sprouts'\n",
    "\n",
    "if (item in grocery_items): \n",
    "    print('The item exists')\n",
    "#else:\n",
    "    #print('The item does not exist')\n",
    "else:\n",
    "  print('The item does not exist')\n",
    "  grocery_items.update({item: 2.99})\n",
    "  print(\"just added the item: \", grocery_items)\n",
    "    \n",
    "#can also get rid of else statements. If you get rid of it and the element/value doesnt' exist, then nothing runs"
   ]
  },
  {
   "cell_type": "code",
   "execution_count": 168,
   "metadata": {},
   "outputs": [
    {
     "name": "stdout",
     "output_type": "stream",
     "text": [
      "The price is too expensive\n"
     ]
    }
   ],
   "source": [
    "#if-else statements are used to manage which parts of your code will get executed based on a single condition. \n",
    "#elif statements allow you to test more than one condition.\n",
    "\n",
    "grocery_items = {'bananas': 2.99, 'apples': 1.29, 'papayas': 2.39}\n",
    "item, price = 'brussel sprouts', 3.99\n",
    "\n",
    "#if statements checks if brussel sprouts is in the grocery_items\n",
    "if (item in grocery_items): \n",
    "    print('The item exists')\n",
    "#Once grocery_items finds that brussel sprouts not there, then elif statement runs\n",
    "elif (price > 2.99):\n",
    "    print('The price is too expensive')\n",
    "#else is ignored, because elif runs\n",
    "else:\n",
    "    print('The item does not exist')"
   ]
  },
  {
   "cell_type": "code",
   "execution_count": 175,
   "metadata": {},
   "outputs": [
    {
     "name": "stdout",
     "output_type": "stream",
     "text": [
      "time to take a lunch break\n"
     ]
    }
   ],
   "source": [
    "daytime = 'noon'\n",
    "# one equal sign means assign a value\n",
    "# two equal signs means comparison \n",
    "\n",
    "if daytime == 'dawn':\n",
    "    print('still asleep')\n",
    "elif daytime == 'morning':\n",
    "    print('time to go to work')\n",
    "elif daytime == 'noon':\n",
    "    print('time to take a lunch break')\n",
    "elif daytime == 'afternoon':\n",
    "    print('time to go home')\n",
    "else:\n",
    "    print('time to sleep')\n",
    "    \n",
    "#So the purpose of this exercise was not only use the elif statements \n",
    "#but also for you to remember to use double equal signs == when making a comparison"
   ]
  },
  {
   "cell_type": "code",
   "execution_count": 179,
   "metadata": {},
   "outputs": [
    {
     "name": "stdout",
     "output_type": "stream",
     "text": [
      "The flow is transitional\n"
     ]
    }
   ],
   "source": [
    "#complex comparisons with Reynold's number (flow of a fluid in a pipe)\n",
    "reynolds_number = 5000\n",
    "\n",
    "if 2000 < reynolds_number < 10000:\n",
    "    print(\"The flow is transitional\")\n",
    "elif reynolds_number < 2000:\n",
    "    print(\"The flow is laminar\")"
   ]
  },
  {
   "cell_type": "code",
   "execution_count": 182,
   "metadata": {},
   "outputs": [
    {
     "name": "stdout",
     "output_type": "stream",
     "text": [
      "The flow is transitional\n"
     ]
    }
   ],
   "source": [
    "#can also write the thing above as logical operators using 'and'\n",
    "reynolds_number = 5000\n",
    "\n",
    "if reynolds_number > 2000 and reynolds_number < 10000:\n",
    "    print(\"The flow is transitional\")\n",
    "\n",
    "#since there's no else statement and the operator 'and' needs to be both true...if reynolds_number is larger then \n",
    "#nothing runs"
   ]
  },
  {
   "cell_type": "code",
   "execution_count": 185,
   "metadata": {},
   "outputs": [
    {
     "name": "stdout",
     "output_type": "stream",
     "text": [
      "The flow is not transitional\n"
     ]
    }
   ],
   "source": [
    "reynolds_number = 1000\n",
    "\n",
    "if reynolds_number <= 2000 or reynolds_number >= 10000:\n",
    "    print(\"The flow is not transitional\")\n",
    "\n",
    "#the or operator only needs one of the condition to be true so the code will run"
   ]
  },
  {
   "cell_type": "code",
   "execution_count": 186,
   "metadata": {},
   "outputs": [
    {
     "name": "stdout",
     "output_type": "stream",
     "text": [
      "January\n",
      "February\n",
      "March\n"
     ]
    }
   ],
   "source": [
    "#Often times, you'll find that you need to run the same block of code multiple times. \n",
    "#This concept is known as iterating (or looping)\n",
    "\n",
    "#for loops do an iteration through lists, dictionaries, strings, tuples and has the format of \n",
    "#for element in list_of_elements:\n",
    "#  //iterates through each element\n",
    "\n",
    "#iterating through a list\n",
    "months = ['January', 'February', 'March']\n",
    "for month in months:\n",
    "    print(month)"
   ]
  },
  {
   "cell_type": "code",
   "execution_count": 189,
   "metadata": {},
   "outputs": [
    {
     "name": "stdout",
     "output_type": "stream",
     "text": [
      "0\n",
      "1\n",
      "2\n",
      "3\n",
      "4\n",
      "5\n",
      "6\n",
      "7\n",
      "8\n",
      "9\n"
     ]
    }
   ],
   "source": [
    "#iterating through a range, remember that range is EXCLUSIVE, so this only goes up to 9\n",
    "for number in range (0, 10):\n",
    "    print(number)"
   ]
  },
  {
   "cell_type": "code",
   "execution_count": 195,
   "metadata": {},
   "outputs": [
    {
     "name": "stdout",
     "output_type": "stream",
     "text": [
      "Hillary\n",
      "Diana\n",
      "Bebe\n"
     ]
    }
   ],
   "source": [
    "#can also use for loops to update elements in a list\n",
    "names = ['hillary', 'diana', 'bebe'] \n",
    "for index in range(len(names)):\n",
    "    #print(index)\n",
    "    #print(names[index])\n",
    "    \n",
    "    #this way you can capitalize \n",
    "    print(names[index].title())"
   ]
  },
  {
   "cell_type": "code",
   "execution_count": 200,
   "metadata": {},
   "outputs": [
    {
     "name": "stdout",
     "output_type": "stream",
     "text": [
      "The movie Titanic, was made in 1997\n",
      "The movie Finding Nemo, was made in 2003\n"
     ]
    }
   ],
   "source": [
    "#Using for loops to iterate through a dictionary - recall that dictionaries have collection of {key: value} pairs\n",
    "#for (key, value) in dictionary.items():\n",
    "#  //iterates through each (key, value) pair\n",
    "\n",
    "movies = { 'Titanic': 1997, 'Finding Nemo': 2003 }\n",
    "for (key, value) in movies.items():\n",
    "    print('The movie {}, was made in {}'.format(key, value))\n",
    "    \n",
    "#format replaces each argument {} in the String with its corresponding variable"
   ]
  },
  {
   "cell_type": "code",
   "execution_count": 206,
   "metadata": {},
   "outputs": [
    {
     "name": "stdout",
     "output_type": "stream",
     "text": [
      "26\n",
      "27\n",
      "28\n",
      "29\n",
      "30\n"
     ]
    }
   ],
   "source": [
    "#A for loop will keep executing the same block of code until it has iterated through the entire iterable \n",
    "#(list, dictionary or tuple)\n",
    "\n",
    "#A while loop will keep running a block of code repeatedly until a specified condition becomes False\n",
    "#while (condition):\n",
    "#    //execute code\n",
    "random_number = 25\n",
    "\n",
    "while random_number < 30:\n",
    "    random_number += 1\n",
    "    print(random_number)"
   ]
  },
  {
   "cell_type": "code",
   "execution_count": 226,
   "metadata": {},
   "outputs": [
    {
     "name": "stdout",
     "output_type": "stream",
     "text": [
      "[0, 1, 2, 3, 4, 5, 6, 7, 8, 9]\n",
      "1\n",
      "3\n",
      "5\n",
      "7\n",
      "9\n"
     ]
    }
   ],
   "source": [
    "#break and continue is used to modify behavior of a for loop\n",
    "#continue jumps over one iteration based on a condition.\n",
    "numbers = list(range(0,10))\n",
    "print(numbers)\n",
    "\n",
    "#In this case what if we want to skip odd numbers\n",
    "for number in numbers:\n",
    "    if number % 2 == 0:\n",
    "        continue\n",
    "    print(number)\n",
    "    \n",
    "#have to indent properly, otherwise code won't work\n",
    "#!= means not equal. wheras == means compared to, and = means to assign a value"
   ]
  },
  {
   "cell_type": "code",
   "execution_count": 227,
   "metadata": {},
   "outputs": [
    {
     "name": "stdout",
     "output_type": "stream",
     "text": [
      "0\n"
     ]
    }
   ],
   "source": [
    "for number in numbers:\n",
    "    if number % 2 != 0:\n",
    "        break\n",
    "    print(number)\n",
    "\n",
    "#break leaves the code completely "
   ]
  },
  {
   "cell_type": "code",
   "execution_count": 232,
   "metadata": {},
   "outputs": [
    {
     "name": "stdout",
     "output_type": "stream",
     "text": [
      "6\n",
      "24\n",
      "27\n",
      "6\n"
     ]
    }
   ],
   "source": [
    "#Once a function is defined, it can be invoked as many times as you wish \n",
    "#without having to messily copy and paste your code, format is:\n",
    "\n",
    "#def function_name(arg1, arg2):\n",
    "#  //function body\n",
    "\n",
    "#function is always declared with def. Better to use snake_case typing. The function specifies arguments inside parenthesis\n",
    "#function body is the code that is executed when the funciton is called\n",
    "\n",
    "def rectangle_area(length, width):\n",
    "    area = length * width\n",
    "    return area\n",
    "#REMEMBER TO MAKE INDENTATION CORRECT! Otherwise it will not run. This is the function scope\n",
    "\n",
    "print(rectangle_area(3, 2))\n",
    "print(rectangle_area(4, 6))\n",
    "print(rectangle_area(3, 9))\n",
    "print(rectangle_area(2, 3))"
   ]
  },
  {
   "cell_type": "code",
   "execution_count": 233,
   "metadata": {},
   "outputs": [
    {
     "data": {
      "text/plain": [
       "\"Doc strings don't influence the code\\nInstead of having to read the code, a developer can quickly glance at your documentation and \\nimmediately recognize the purpose of your function. It is important to note that:\\n\\n\""
      ]
     },
     "execution_count": 233,
     "metadata": {},
     "output_type": "execute_result"
    }
   ],
   "source": [
    "\"\"\"Doc strings don't influence the code\n",
    "Instead of having to read the code, a developer can quickly glance at your documentation and \n",
    "immediately recognize the purpose of your function. It is important to note that:\n",
    "\n",
    "\"\"\"\n"
   ]
  },
  {
   "cell_type": "code",
   "execution_count": null,
   "metadata": {},
   "outputs": [],
   "source": []
  }
 ],
 "metadata": {
  "kernelspec": {
   "display_name": "Python 3",
   "language": "python",
   "name": "python3"
  },
  "language_info": {
   "codemirror_mode": {
    "name": "ipython",
    "version": 3
   },
   "file_extension": ".py",
   "mimetype": "text/x-python",
   "name": "python",
   "nbconvert_exporter": "python",
   "pygments_lexer": "ipython3",
   "version": "3.7.6"
  }
 },
 "nbformat": 4,
 "nbformat_minor": 4
}
