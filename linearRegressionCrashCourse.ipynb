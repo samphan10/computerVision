{
 "cells": [
  {
   "cell_type": "code",
   "execution_count": 1,
   "metadata": {},
   "outputs": [],
   "source": [
    "#Lesson 1: Making predictions\n",
    "#machine learning makes computational algorithms that can learn over time, based on experience. \n",
    "#Can detect and predict meaningful patterns.\n",
    "#supervised learning the learner is trained with labelled data (and features), so when introduced to new inputs\n",
    "#the learner can predict a corresponding output\n",
    "import torch"
   ]
  },
  {
   "cell_type": "code",
   "execution_count": 2,
   "metadata": {},
   "outputs": [],
   "source": [
    "#goal of this lesson is to generate random data and incorrectly guess a linear model (linear regression)\n",
    "#then use a simple optimization algorithm called gradient descent, until the model fits the data well\n",
    "#line represented by y = w*m + b. w (slope, or weight) and b (bias term) are paramteres of our line\n",
    "#don't worry about why you need the gradient yet equal to true\n",
    "\n",
    "#weight w, is 3.0 (arbitrary)\n",
    "w = torch.tensor(3.0, requires_grad=True)\n",
    "#bias b, is arbitrary right now \n",
    "b = torch.tensor(1.0, requires_grad=True)"
   ]
  },
  {
   "cell_type": "code",
   "execution_count": 3,
   "metadata": {},
   "outputs": [],
   "source": [
    "#how to make a prediction based on a model in pytorch\n",
    "#defining forward function recieves the x variable (input, independent variable) and passes \n",
    "#through the linear model y = w*x + b\n",
    "def forward(x):\n",
    "  #based on what we give x, then we will predict y and returned\n",
    "  y = w*x + b\n",
    "  return y"
   ]
  },
  {
   "cell_type": "code",
   "execution_count": 4,
   "metadata": {},
   "outputs": [
    {
     "data": {
      "text/plain": [
       "tensor(7., grad_fn=<AddBackward0>)"
      ]
     },
     "execution_count": 4,
     "metadata": {},
     "output_type": "execute_result"
    }
   ],
   "source": [
    "#chose an x input of 2, so the output is forward(x)\n",
    "x = torch.tensor(2)\n",
    "forward(x)\n",
    "#model makes a prediction of 7"
   ]
  },
  {
   "cell_type": "code",
   "execution_count": 5,
   "metadata": {},
   "outputs": [
    {
     "data": {
      "text/plain": [
       "tensor([[13.],\n",
       "        [22.]], grad_fn=<AddBackward0>)"
      ]
     },
     "execution_count": 5,
     "metadata": {},
     "output_type": "execute_result"
    }
   ],
   "source": [
    "#can pass in many inputs, say we want 4 and 7. The forward function only recognizes one x\n",
    "#so need to wrap the brackets up so it recongizes as separate inputs\n",
    "x = torch.tensor([[4], [7]])\n",
    "forward(x)"
   ]
  },
  {
   "cell_type": "code",
   "execution_count": 6,
   "metadata": {},
   "outputs": [],
   "source": [
    "#Lesson 2: Linear class (standard way of making linear model)\n",
    "#import the linear class from the nn module\n",
    "from torch.nn import Linear"
   ]
  },
  {
   "cell_type": "code",
   "execution_count": 7,
   "metadata": {},
   "outputs": [
    {
     "name": "stdout",
     "output_type": "stream",
     "text": [
      "Parameter containing:\n",
      "tensor([-0.4414], requires_grad=True) Parameter containing:\n",
      "tensor([[0.5153]], requires_grad=True)\n"
     ]
    }
   ],
   "source": [
    "#manual_seed sets a seed for random generation of numbers. When constructing model to linear class, it will be given\n",
    "#random values for the linear class\n",
    "torch.manual_seed(1)\n",
    "#need to start a random variable for w and b, then train the model through gradient descent to obtain \n",
    "#optimal values\n",
    "\n",
    "#for every prediction we make using linear model, for every output there is a single input\n",
    "#by doing this, this makes a linear model \n",
    "model = Linear(in_features=1, out_features=1)\n",
    "#can determine the parameters by printing\n",
    "print(model.bias, model.weight)\n",
    "#this is equivalent to a line with slope 0.5153 (weight) and b of -0.4414 (bias)"
   ]
  },
  {
   "cell_type": "code",
   "execution_count": 8,
   "metadata": {},
   "outputs": [
    {
     "name": "stdout",
     "output_type": "stream",
     "text": [
      "tensor([[0.5891],\n",
      "        [1.2590]], grad_fn=<AddmmBackward>)\n"
     ]
    }
   ],
   "source": [
    "#based on this model we can make a prediction from input x, remember decimals are float values\n",
    "x = torch.tensor([[2.0], [3.3]])\n",
    "print(model(x))\n",
    "#this gives you the prediction based on the x input value, since linear model only takes a single argument\n",
    "#need to use brackets"
   ]
  },
  {
   "cell_type": "code",
   "execution_count": 9,
   "metadata": {},
   "outputs": [],
   "source": [
    "#Lesson 3: Custom Modules\n",
    "#Robust and simple way of building a simple linear model (LR = linear regression) with pytorch\n",
    "#this is a template for our new class\n",
    "#need to also import tourch.nn and will do it with an alias\n",
    "import torch\n",
    "import torch.nn as nn\n",
    "\n",
    "class LR(nn.Module):\n",
    "  #LR means linear regression. Class is a template, as a blueprint for our models contruction\n",
    "  #(init or) initializer methods. double underscores for contructor. Initialize new constructors for the class \n",
    "  #self is the instance of the class, object that has yet to be initialized\n",
    "  #looking back on code \n",
    "    #torch.manual_seed(1)\n",
    "    #model = Linear(in_features=1, out_features=1)\n",
    "  #to inialize linear model, need to show that the input and output sizes\n",
    "  def __init__(self, input_size, output_size):\n",
    "    #to access linear class need to import torch.nn \n",
    "    super().__init__() \n",
    "    #these top 3 lines are always written to inheret from class or to make a custom class! \n",
    "\n",
    "    #instance of the object we want to initalize\n",
    "    self.linear = nn.Linear(input_size, output_size)\n",
    "    \n",
    "    #To make predictions, we use the forward method. by defining forward method. Need to pass in the input x\n",
    "  def forward(self, x):\n",
    "    #prediction (pred) is the prediction that comes out from x that is fed in from the linear model\n",
    "    pred = self.linear(x)\n",
    "    return pred"
   ]
  },
  {
   "cell_type": "code",
   "execution_count": 10,
   "metadata": {},
   "outputs": [
    {
     "name": "stdout",
     "output_type": "stream",
     "text": [
      "[Parameter containing:\n",
      "tensor([[0.5153]], requires_grad=True), Parameter containing:\n",
      "tensor([-0.4414], requires_grad=True)]\n"
     ]
    }
   ],
   "source": [
    "#seed random number generator to see consistent results\n",
    "torch.manual_seed(1)\n",
    "#passing arguments through\n",
    "#this is our linear model with input and output of 1\n",
    "model = LR(1, 1)\n",
    "#printing the random weight and bias values as a list to see the values better\n",
    "print(list(model.parameters()))\n",
    "#can make more LR models\n",
    "#the weight form = 0.5153, and bias = -0.4414 as before"
   ]
  },
  {
   "cell_type": "code",
   "execution_count": 11,
   "metadata": {},
   "outputs": [
    {
     "name": "stdout",
     "output_type": "stream",
     "text": [
      "tensor([[0.0739],\n",
      "        [0.5891]], grad_fn=<AddmmBackward>)\n"
     ]
    }
   ],
   "source": [
    "#to make predictions we use the forward method as def forward(self, x)\n",
    "x = torch.tensor([[1.0], [2.0]])\n",
    "print(model.forward(x))\n",
    "#make two predictions based on two inputs (independent variables) with wrapping in brackets"
   ]
  },
  {
   "cell_type": "code",
   "execution_count": 12,
   "metadata": {},
   "outputs": [],
   "source": [
    "#Lesson 4: Creating Datasets\n",
    "#Before training model to fit a data. set \n",
    "#need to create a dataset and plot if we want to figure out the lienar regresssion\n",
    "\n",
    "#load the following: \n",
    "#import torch \n",
    "#import torch.nn as nn\n",
    "\n",
    "#to visualize our data in 2D, x and y coordinate. Each data has an x and y coordinate\n",
    "import matplotlib.pyplot as plt \n",
    "\n",
    "#matplotlib is compatible with numpy\n",
    "import numpy as np\n"
   ]
  },
  {
   "cell_type": "code",
   "execution_count": 13,
   "metadata": {},
   "outputs": [
    {
     "data": {
      "text/plain": [
       "Text(0.5, 0, 'x')"
      ]
     },
     "execution_count": 13,
     "metadata": {},
     "output_type": "execute_result"
    },
    {
     "data": {
      "image/png": "[encoded data removed]",
      "text/plain": [
       "<Figure size 432x288 with 1 Axes>"
      ]
     },
     "metadata": {
      "needs_background": "light"
     },
     "output_type": "display_data"
    }
   ],
   "source": [
    "#returns a tensor filled with random numbers that are normally distributed, this function accepts a sequence of integers\n",
    "#that describes the shape of our tensor. (100 rows and 1 column) 100 point with 1 single value within normal distribution\n",
    "#They're centered around zero with a small variance. So to multiply with 10 to make a larger range\n",
    "x = torch.randn(100, 1)*10\n",
    "#y right now is a function of x \n",
    "y = x + 3*torch.randn(100,1)\n",
    "#plot the tensors as numpy array. \n",
    "#to make the point show up as a circle use letter 'o'\n",
    "plt.plot(x.numpy(), y.numpy(), 'o')\n",
    "\n",
    "#fitting linear model with linear data is easy, so adding noise by adding noise to the y value by adding\n",
    "#random values or noise to it (that is the random added to the x)\n",
    "\n",
    "#label the axis\n",
    "plt.ylabel('y')\n",
    "plt.xlabel('x')"
   ]
  },
  {
   "cell_type": "code",
   "execution_count": 14,
   "metadata": {},
   "outputs": [],
   "source": [
    "#now to train a model to fit the data set, which before we already wrote the code to create a model\n",
    "#it has random weight and bias models already assigned to it by a linear model. \n",
    "class LR(nn.Module):\n",
    "    def __init__(self, input_size, output_size):\n",
    "        super().__init__()\n",
    "        self.linear = nn.Linear(input_size, output_size)\n",
    "    def forward(self, x):\n",
    "        pred = self.linear(x)\n",
    "        return pred"
   ]
  },
  {
   "cell_type": "code",
   "execution_count": 15,
   "metadata": {},
   "outputs": [
    {
     "name": "stdout",
     "output_type": "stream",
     "text": [
      "LR(\n",
      "  (linear): Linear(in_features=1, out_features=1, bias=True)\n",
      ")\n"
     ]
    }
   ],
   "source": [
    "torch.manual_seed(1)\n",
    "model = LR(1, 1)\n",
    "print(model)"
   ]
  },
  {
   "cell_type": "code",
   "execution_count": 16,
   "metadata": {},
   "outputs": [],
   "source": [
    "#unpacking parameters\n",
    "[w, b] = model.parameters()\n",
    "\n",
    "#obtaining as a tensor type, but when type .item we get a python number for the tensors and give the parameters\n",
    "#w1 = w[0][0].item()\n",
    "#b1 = b[0].item()\n",
    "#print(w1, b1)\n",
    "\n",
    "#will return the numbers as a tuple instead. To make it into a function instead\n",
    "def get_params():\n",
    "    return (w[0][0].item(), b[0].item())\n",
    "\n"
   ]
  },
  {
   "cell_type": "code",
   "execution_count": 17,
   "metadata": {},
   "outputs": [],
   "source": [
    "#now going to plot the model along the data points\n",
    "def plot_fit(title):\n",
    "    plt.title = title\n",
    "    #since matplot is most cmpatible to numpy so we're going to import numpy as np\n",
    "    #determine numerical expressions for x1 and y1\n",
    "    #set w1, b1 equal to their return values of get_param\n",
    "    w1, b1 = get_params()\n",
    "    #x axis seems to go from =30 to 30. Make sure it's an array and not a tensor to be compatible with pyplot\n",
    "    x1 = np.array([-30, 30])\n",
    "    #getting 2 y points. Will give points at -30 and then 30 which is connected by a line\n",
    "    y1 = w1*x1 + b1\n",
    "    #r plots red\n",
    "    plt.plot(x1, y1, 'r')\n",
    "    #also want to plot scatter plot\n",
    "    plt.scatter(x, y)\n",
    "    #showing our plot\n",
    "    plt.show()"
   ]
  },
  {
   "cell_type": "code",
   "execution_count": 18,
   "metadata": {},
   "outputs": [
    {
     "data": {
      "image/png": "[encoded data removed]",
      "text/plain": [
       "<Figure size 432x288 with 1 Axes>"
      ]
     },
     "metadata": {
      "needs_background": "light"
     },
     "output_type": "display_data"
    }
   ],
   "source": [
    "plot_fit('Initial Model')\n",
    "\n",
    "#now we can clearly see that the linear model doesn't fit the data very well. \n",
    "#we need gradient descent to update its parameters "
   ]
  },
  {
   "cell_type": "code",
   "execution_count": 19,
   "metadata": {},
   "outputs": [],
   "source": [
    "#Lesson 5: Loss function\n",
    "#goal is to find parameters of the line that fits the data well...so we need an optimization algorithm that\n",
    "#will adjust the parameters based on the total error.\n",
    "\n",
    "#Whatever line chosen, the error is the prediction subtracted from the actual value: (actual - prediction)^2\n",
    "#the prediction can be written as wx+b. (y - wx+ b)^2\n",
    "\n",
    "#Looking at a single point, an infinite number of lines can be drawn through it, so we can remove bias \n",
    "#(y-intercept) for now and fix it at zero. (y - wx + 0)^2 ==> (y - wx)^2\n",
    "#optimal line will have a weight that will minimize the error as much as possible (close to zero)\n",
    "\n",
    "#Smaller the space between the line and the actual value corresponds to the error\n",
    "#error vs weight will look like a parabola, where the optimal value is the minimum that\n",
    "#gives the lowest error\n",
    "\n",
    "#how to train a model to figure out the weight parameters that will minimize corespond to the smallest error?"
   ]
  },
  {
   "cell_type": "code",
   "execution_count": 20,
   "metadata": {},
   "outputs": [],
   "source": [
    "#Lesson 6: Gradient Descent \n",
    "#there are weight parameters that will yield the smallest error, to determine the weight parameters\n",
    "#we use gradient descent. Linear model will start with random inital parameters. \n",
    "#based on the associated error with that initial value, then move in the direction that gives the smallest error\n",
    "#If we take the gradient, the derivative, the slope of the tangent at the current value\n",
    "#the derivative will take in the direction towards the highest error\n",
    "\n",
    "#so need to move in negative gradient direction to the lowest error. Take the current weight and \n",
    "#subtract the derivative of the function at that same point. \n",
    "#w1 = w0 - f'(w) ==> the new weight \n",
    "\n",
    "#1. Compute derivative of loss function, which is the error between actual and predition squared f = (y - wx)^2\n",
    "#2. Substitute the current weight value to get f'(w)\n",
    "#3. Gradient value (or derivative) is then subtracted from the current weight w0 to give a new weight w1\n",
    "#4. Repeat until obtain a small error (optimal parameters for the linear model to fit data)\n",
    "\n",
    "#Need to descend in small steps to not overshoot the minimum. Which means we will multiply the gradient\n",
    "#by a learning rate (alpha) ==> w1 = w0 - (alpha)*f'(w)\n",
    "\n",
    "#this is an effective way to train our model. To figure out the weights needed to make the smallest error"
   ]
  },
  {
   "cell_type": "code",
   "execution_count": 21,
   "metadata": {},
   "outputs": [],
   "source": [
    "#Lesson 7: Mean Squared Error\n",
    "\n",
    "#Similar to general loss equation...but we need to include the bias value. \n"
   ]
  },
  {
   "cell_type": "code",
   "execution_count": 22,
   "metadata": {},
   "outputs": [],
   "source": [
    "#Lesson 8: Training - Code Implementation\n",
    "#need to specify loss function that we need to minimize. There is a built in loss function in pytorch.\n",
    "#store mean squared loss is stored as a variale called criterion \n",
    "criterion = nn.MSELoss()\n",
    "\n",
    "#optimizer will update parameters. Implement stochastic gradient descent...which is not similar to batch gradient descent\n",
    "#batch gradient descent will computes gradient with all the points, based on sum of accumulated errors for every point, every iteration\n",
    "#Stochastic will reach convergence faster - minimize the total loss one sample at a time. More frequently update weights\n",
    "#Specifiy which model parameters we want to optimize, and set lr = learning rate, want it to be samll so we don't have \n",
    "#divergent behavior in optimization. Usually 0.01\n",
    "optimizer = torch.optim.SGD(model.parameters(), lr = 0.001)"
   ]
  },
  {
   "cell_type": "code",
   "execution_count": 23,
   "metadata": {},
   "outputs": [
    {
     "name": "stdout",
     "output_type": "stream",
     "text": [
      "epoch: 0 loss: 36.448333740234375\n",
      "epoch: 1 loss: 25.847068786621094\n",
      "epoch: 2 loss: 19.274919509887695\n",
      "epoch: 3 loss: 15.200481414794922\n",
      "epoch: 4 loss: 12.674422264099121\n",
      "epoch: 5 loss: 11.108229637145996\n",
      "epoch: 6 loss: 10.137073516845703\n",
      "epoch: 7 loss: 9.53479290008545\n",
      "epoch: 8 loss: 9.161184310913086\n",
      "epoch: 9 loss: 8.92933464050293\n",
      "epoch: 10 loss: 8.785365104675293\n",
      "epoch: 11 loss: 8.695876121520996\n",
      "epoch: 12 loss: 8.640158653259277\n",
      "epoch: 13 loss: 8.605379104614258\n",
      "epoch: 14 loss: 8.583581924438477\n",
      "epoch: 15 loss: 8.569830894470215\n",
      "epoch: 16 loss: 8.56106948852539\n",
      "epoch: 17 loss: 8.555403709411621\n",
      "epoch: 18 loss: 8.551655769348145\n",
      "epoch: 19 loss: 8.549100875854492\n",
      "epoch: 20 loss: 8.547282218933105\n",
      "epoch: 21 loss: 8.545923233032227\n",
      "epoch: 22 loss: 8.54485034942627\n",
      "epoch: 23 loss: 8.54395580291748\n",
      "epoch: 24 loss: 8.543170928955078\n",
      "epoch: 25 loss: 8.542455673217773\n",
      "epoch: 26 loss: 8.541786193847656\n",
      "epoch: 27 loss: 8.541145324707031\n",
      "epoch: 28 loss: 8.540521621704102\n",
      "epoch: 29 loss: 8.539910316467285\n",
      "epoch: 30 loss: 8.539307594299316\n",
      "epoch: 31 loss: 8.538711547851562\n",
      "epoch: 32 loss: 8.538119316101074\n",
      "epoch: 33 loss: 8.537530899047852\n",
      "epoch: 34 loss: 8.536946296691895\n",
      "epoch: 35 loss: 8.536364555358887\n",
      "epoch: 36 loss: 8.535785675048828\n",
      "epoch: 37 loss: 8.535205841064453\n",
      "epoch: 38 loss: 8.53463363647461\n",
      "epoch: 39 loss: 8.534061431884766\n",
      "epoch: 40 loss: 8.533492088317871\n",
      "epoch: 41 loss: 8.532923698425293\n",
      "epoch: 42 loss: 8.532360076904297\n",
      "epoch: 43 loss: 8.5317964553833\n",
      "epoch: 44 loss: 8.531234741210938\n",
      "epoch: 45 loss: 8.530675888061523\n",
      "epoch: 46 loss: 8.530118942260742\n",
      "epoch: 47 loss: 8.529566764831543\n",
      "epoch: 48 loss: 8.529012680053711\n",
      "epoch: 49 loss: 8.528462409973145\n",
      "epoch: 50 loss: 8.527915000915527\n",
      "epoch: 51 loss: 8.52737045288086\n",
      "epoch: 52 loss: 8.526825904846191\n",
      "epoch: 53 loss: 8.526285171508789\n",
      "epoch: 54 loss: 8.525744438171387\n",
      "epoch: 55 loss: 8.52520751953125\n",
      "epoch: 56 loss: 8.524674415588379\n",
      "epoch: 57 loss: 8.524140357971191\n",
      "epoch: 58 loss: 8.523609161376953\n",
      "epoch: 59 loss: 8.523080825805664\n",
      "epoch: 60 loss: 8.522553443908691\n",
      "epoch: 61 loss: 8.522029876708984\n",
      "epoch: 62 loss: 8.521506309509277\n",
      "epoch: 63 loss: 8.52098560333252\n",
      "epoch: 64 loss: 8.520466804504395\n",
      "epoch: 65 loss: 8.519950866699219\n",
      "epoch: 66 loss: 8.51943588256836\n",
      "epoch: 67 loss: 8.51892375946045\n",
      "epoch: 68 loss: 8.518413543701172\n",
      "epoch: 69 loss: 8.517904281616211\n",
      "epoch: 70 loss: 8.517398834228516\n",
      "epoch: 71 loss: 8.516894340515137\n",
      "epoch: 72 loss: 8.51639175415039\n",
      "epoch: 73 loss: 8.515890121459961\n",
      "epoch: 74 loss: 8.515392303466797\n",
      "epoch: 75 loss: 8.51489543914795\n",
      "epoch: 76 loss: 8.51440143585205\n",
      "epoch: 77 loss: 8.513909339904785\n",
      "epoch: 78 loss: 8.513418197631836\n",
      "epoch: 79 loss: 8.512928009033203\n",
      "epoch: 80 loss: 8.512441635131836\n",
      "epoch: 81 loss: 8.511958122253418\n",
      "epoch: 82 loss: 8.511474609375\n",
      "epoch: 83 loss: 8.510993957519531\n",
      "epoch: 84 loss: 8.510512351989746\n",
      "epoch: 85 loss: 8.51003646850586\n",
      "epoch: 86 loss: 8.509559631347656\n",
      "epoch: 87 loss: 8.509086608886719\n",
      "epoch: 88 loss: 8.508615493774414\n",
      "epoch: 89 loss: 8.508145332336426\n",
      "epoch: 90 loss: 8.507678031921387\n",
      "epoch: 91 loss: 8.507210731506348\n",
      "epoch: 92 loss: 8.506745338439941\n",
      "epoch: 93 loss: 8.5062837600708\n",
      "epoch: 94 loss: 8.505821228027344\n",
      "epoch: 95 loss: 8.505363464355469\n",
      "epoch: 96 loss: 8.504903793334961\n",
      "epoch: 97 loss: 8.504449844360352\n",
      "epoch: 98 loss: 8.503995895385742\n",
      "epoch: 99 loss: 8.503543853759766\n"
     ]
    }
   ],
   "source": [
    "#will train model for a specified number of epochs. Epoch is whenever we pass through the entire data set once\n",
    "#calcualte error function and backpropogate the gradient of the error function to update the weight\n",
    "\n",
    "#if we use too few epochs then we get underfitting. If we use too many we can get overfitting (but won't be a problem\n",
    "#in this case...)\n",
    "\n",
    "epochs = 100\n",
    "#set a list to an empty list so we can append each loss to the list\n",
    "losses = []\n",
    "for i in range(epochs):\n",
    "    #each x value we use a prediction with the forward method\n",
    "    y_pred = model.forward(x)\n",
    "    #find the error between the predicted value y and actual y\n",
    "    loss = criterion(y_pred, y)\n",
    "    #to see the loss associated with each epoch\n",
    "    print(\"epoch:\", i, \"loss:\", loss.item())\n",
    "    \n",
    "    losses.append(loss)\n",
    "    #need to set gradient to zero because gradients accumulate with the .backward method\n",
    "    optimizer.zero_grad()\n",
    "    #now to take gradient descent\n",
    "    loss.backward()\n",
    "    #all optimizers use the step method\n",
    "    optimizer.step()"
   ]
  },
  {
   "cell_type": "code",
   "execution_count": 24,
   "metadata": {},
   "outputs": [
    {
     "data": {
      "text/plain": [
       "Text(0.5, 0, 'epoch')"
      ]
     },
     "execution_count": 24,
     "metadata": {},
     "output_type": "execute_result"
    },
    {
     "data": {
      "image/png": "[encoded data removed]",
      "text/plain": [
       "<Figure size 432x288 with 1 Axes>"
      ]
     },
     "metadata": {
      "needs_background": "light"
     },
     "output_type": "display_data"
    }
   ],
   "source": [
    "plt.plot(range(epochs), losses)\n",
    "plt.ylabel('Loss')\n",
    "plt.xlabel('epoch')"
   ]
  },
  {
   "cell_type": "code",
   "execution_count": 25,
   "metadata": {},
   "outputs": [
    {
     "data": {
      "image/png": "[encoded data removed]",
      "text/plain": [
       "<Figure size 432x288 with 1 Axes>"
      ]
     },
     "metadata": {
      "needs_background": "light"
     },
     "output_type": "display_data"
    }
   ],
   "source": [
    "plot_fit(\"Trained Model\")"
   ]
  },
  {
   "cell_type": "code",
   "execution_count": null,
   "metadata": {},
   "outputs": [],
   "source": []
  }
 ],
 "metadata": {
  "kernelspec": {
   "display_name": "Python 3",
   "language": "python",
   "name": "python3"
  },
  "language_info": {
   "codemirror_mode": {
    "name": "ipython",
    "version": 3
   },
   "file_extension": ".py",
   "mimetype": "text/x-python",
   "name": "python",
   "nbconvert_exporter": "python",
   "pygments_lexer": "ipython3",
   "version": "3.7.6"
  }
 },
 "nbformat": 4,
 "nbformat_minor": 4
}
